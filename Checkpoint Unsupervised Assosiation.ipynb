{
 "cells": [
  {
   "cell_type": "code",
   "execution_count": 2,
   "metadata": {},
   "outputs": [],
   "source": [
    "import numpy as np\n",
    "import pandas as pd\n",
    "import matplotlib.pyplot as plt\n",
    "import seaborn as sns\n",
    "import plotly.express as px\n",
    "import mlxtend\n",
    "from mlxtend.preprocessing import TransactionEncoder"
   ]
  },
  {
   "cell_type": "code",
   "execution_count": 3,
   "metadata": {},
   "outputs": [],
   "source": [
    "DataMartek = pd.read_csv('/Users/booba/Downloads/Market_Basket_Optimisation.csv')"
   ]
  },
  {
   "cell_type": "code",
   "execution_count": 4,
   "metadata": {},
   "outputs": [
    {
     "data": {
      "application/vnd.microsoft.datawrangler.viewer.v0+json": {
       "columns": [
        {
         "name": "index",
         "rawType": "int64",
         "type": "integer"
        },
        {
         "name": "shrimp",
         "rawType": "object",
         "type": "string"
        },
        {
         "name": "almonds",
         "rawType": "object",
         "type": "unknown"
        },
        {
         "name": "avocado",
         "rawType": "object",
         "type": "unknown"
        },
        {
         "name": "vegetables mix",
         "rawType": "object",
         "type": "unknown"
        },
        {
         "name": "green grapes",
         "rawType": "object",
         "type": "unknown"
        },
        {
         "name": "whole weat flour",
         "rawType": "object",
         "type": "unknown"
        },
        {
         "name": "yams",
         "rawType": "object",
         "type": "unknown"
        },
        {
         "name": "cottage cheese",
         "rawType": "object",
         "type": "unknown"
        },
        {
         "name": "energy drink",
         "rawType": "object",
         "type": "unknown"
        },
        {
         "name": "tomato juice",
         "rawType": "object",
         "type": "unknown"
        },
        {
         "name": "low fat yogurt",
         "rawType": "object",
         "type": "unknown"
        },
        {
         "name": "green tea",
         "rawType": "object",
         "type": "unknown"
        },
        {
         "name": "honey",
         "rawType": "object",
         "type": "unknown"
        },
        {
         "name": "salad",
         "rawType": "object",
         "type": "unknown"
        },
        {
         "name": "mineral water",
         "rawType": "object",
         "type": "unknown"
        },
        {
         "name": "salmon",
         "rawType": "object",
         "type": "unknown"
        },
        {
         "name": "antioxydant juice",
         "rawType": "object",
         "type": "unknown"
        },
        {
         "name": "frozen smoothie",
         "rawType": "object",
         "type": "unknown"
        },
        {
         "name": "spinach",
         "rawType": "object",
         "type": "unknown"
        },
        {
         "name": "olive oil",
         "rawType": "float64",
         "type": "float"
        }
       ],
       "conversionMethod": "pd.DataFrame",
       "ref": "5fc0f35d-f922-4df5-9c48-c4199cd697cd",
       "rows": [
        [
         "0",
         "burgers",
         "meatballs",
         "eggs",
         null,
         null,
         null,
         null,
         null,
         null,
         null,
         null,
         null,
         null,
         null,
         null,
         null,
         null,
         null,
         null,
         null
        ],
        [
         "1",
         "chutney",
         null,
         null,
         null,
         null,
         null,
         null,
         null,
         null,
         null,
         null,
         null,
         null,
         null,
         null,
         null,
         null,
         null,
         null,
         null
        ],
        [
         "2",
         "turkey",
         "avocado",
         null,
         null,
         null,
         null,
         null,
         null,
         null,
         null,
         null,
         null,
         null,
         null,
         null,
         null,
         null,
         null,
         null,
         null
        ],
        [
         "3",
         "mineral water",
         "milk",
         "energy bar",
         "whole wheat rice",
         "green tea",
         null,
         null,
         null,
         null,
         null,
         null,
         null,
         null,
         null,
         null,
         null,
         null,
         null,
         null,
         null
        ]
       ],
       "shape": {
        "columns": 20,
        "rows": 4
       }
      },
      "text/html": [
       "<div>\n",
       "<style scoped>\n",
       "    .dataframe tbody tr th:only-of-type {\n",
       "        vertical-align: middle;\n",
       "    }\n",
       "\n",
       "    .dataframe tbody tr th {\n",
       "        vertical-align: top;\n",
       "    }\n",
       "\n",
       "    .dataframe thead th {\n",
       "        text-align: right;\n",
       "    }\n",
       "</style>\n",
       "<table border=\"1\" class=\"dataframe\">\n",
       "  <thead>\n",
       "    <tr style=\"text-align: right;\">\n",
       "      <th></th>\n",
       "      <th>shrimp</th>\n",
       "      <th>almonds</th>\n",
       "      <th>avocado</th>\n",
       "      <th>vegetables mix</th>\n",
       "      <th>green grapes</th>\n",
       "      <th>whole weat flour</th>\n",
       "      <th>yams</th>\n",
       "      <th>cottage cheese</th>\n",
       "      <th>energy drink</th>\n",
       "      <th>tomato juice</th>\n",
       "      <th>low fat yogurt</th>\n",
       "      <th>green tea</th>\n",
       "      <th>honey</th>\n",
       "      <th>salad</th>\n",
       "      <th>mineral water</th>\n",
       "      <th>salmon</th>\n",
       "      <th>antioxydant juice</th>\n",
       "      <th>frozen smoothie</th>\n",
       "      <th>spinach</th>\n",
       "      <th>olive oil</th>\n",
       "    </tr>\n",
       "  </thead>\n",
       "  <tbody>\n",
       "    <tr>\n",
       "      <th>0</th>\n",
       "      <td>burgers</td>\n",
       "      <td>meatballs</td>\n",
       "      <td>eggs</td>\n",
       "      <td>NaN</td>\n",
       "      <td>NaN</td>\n",
       "      <td>NaN</td>\n",
       "      <td>NaN</td>\n",
       "      <td>NaN</td>\n",
       "      <td>NaN</td>\n",
       "      <td>NaN</td>\n",
       "      <td>NaN</td>\n",
       "      <td>NaN</td>\n",
       "      <td>NaN</td>\n",
       "      <td>NaN</td>\n",
       "      <td>NaN</td>\n",
       "      <td>NaN</td>\n",
       "      <td>NaN</td>\n",
       "      <td>NaN</td>\n",
       "      <td>NaN</td>\n",
       "      <td>NaN</td>\n",
       "    </tr>\n",
       "    <tr>\n",
       "      <th>1</th>\n",
       "      <td>chutney</td>\n",
       "      <td>NaN</td>\n",
       "      <td>NaN</td>\n",
       "      <td>NaN</td>\n",
       "      <td>NaN</td>\n",
       "      <td>NaN</td>\n",
       "      <td>NaN</td>\n",
       "      <td>NaN</td>\n",
       "      <td>NaN</td>\n",
       "      <td>NaN</td>\n",
       "      <td>NaN</td>\n",
       "      <td>NaN</td>\n",
       "      <td>NaN</td>\n",
       "      <td>NaN</td>\n",
       "      <td>NaN</td>\n",
       "      <td>NaN</td>\n",
       "      <td>NaN</td>\n",
       "      <td>NaN</td>\n",
       "      <td>NaN</td>\n",
       "      <td>NaN</td>\n",
       "    </tr>\n",
       "    <tr>\n",
       "      <th>2</th>\n",
       "      <td>turkey</td>\n",
       "      <td>avocado</td>\n",
       "      <td>NaN</td>\n",
       "      <td>NaN</td>\n",
       "      <td>NaN</td>\n",
       "      <td>NaN</td>\n",
       "      <td>NaN</td>\n",
       "      <td>NaN</td>\n",
       "      <td>NaN</td>\n",
       "      <td>NaN</td>\n",
       "      <td>NaN</td>\n",
       "      <td>NaN</td>\n",
       "      <td>NaN</td>\n",
       "      <td>NaN</td>\n",
       "      <td>NaN</td>\n",
       "      <td>NaN</td>\n",
       "      <td>NaN</td>\n",
       "      <td>NaN</td>\n",
       "      <td>NaN</td>\n",
       "      <td>NaN</td>\n",
       "    </tr>\n",
       "    <tr>\n",
       "      <th>3</th>\n",
       "      <td>mineral water</td>\n",
       "      <td>milk</td>\n",
       "      <td>energy bar</td>\n",
       "      <td>whole wheat rice</td>\n",
       "      <td>green tea</td>\n",
       "      <td>NaN</td>\n",
       "      <td>NaN</td>\n",
       "      <td>NaN</td>\n",
       "      <td>NaN</td>\n",
       "      <td>NaN</td>\n",
       "      <td>NaN</td>\n",
       "      <td>NaN</td>\n",
       "      <td>NaN</td>\n",
       "      <td>NaN</td>\n",
       "      <td>NaN</td>\n",
       "      <td>NaN</td>\n",
       "      <td>NaN</td>\n",
       "      <td>NaN</td>\n",
       "      <td>NaN</td>\n",
       "      <td>NaN</td>\n",
       "    </tr>\n",
       "  </tbody>\n",
       "</table>\n",
       "</div>"
      ],
      "text/plain": [
       "          shrimp    almonds     avocado    vegetables mix green grapes  \\\n",
       "0        burgers  meatballs        eggs               NaN          NaN   \n",
       "1        chutney        NaN         NaN               NaN          NaN   \n",
       "2         turkey    avocado         NaN               NaN          NaN   \n",
       "3  mineral water       milk  energy bar  whole wheat rice    green tea   \n",
       "\n",
       "  whole weat flour yams cottage cheese energy drink tomato juice  \\\n",
       "0              NaN  NaN            NaN          NaN          NaN   \n",
       "1              NaN  NaN            NaN          NaN          NaN   \n",
       "2              NaN  NaN            NaN          NaN          NaN   \n",
       "3              NaN  NaN            NaN          NaN          NaN   \n",
       "\n",
       "  low fat yogurt green tea honey salad mineral water salmon antioxydant juice  \\\n",
       "0            NaN       NaN   NaN   NaN           NaN    NaN               NaN   \n",
       "1            NaN       NaN   NaN   NaN           NaN    NaN               NaN   \n",
       "2            NaN       NaN   NaN   NaN           NaN    NaN               NaN   \n",
       "3            NaN       NaN   NaN   NaN           NaN    NaN               NaN   \n",
       "\n",
       "  frozen smoothie spinach  olive oil  \n",
       "0             NaN     NaN        NaN  \n",
       "1             NaN     NaN        NaN  \n",
       "2             NaN     NaN        NaN  \n",
       "3             NaN     NaN        NaN  "
      ]
     },
     "execution_count": 4,
     "metadata": {},
     "output_type": "execute_result"
    }
   ],
   "source": [
    "DataMartek.head(4)"
   ]
  },
  {
   "cell_type": "code",
   "execution_count": 5,
   "metadata": {},
   "outputs": [
    {
     "name": "stdout",
     "output_type": "stream",
     "text": [
      "<class 'pandas.core.frame.DataFrame'>\n",
      "RangeIndex: 7500 entries, 0 to 7499\n",
      "Data columns (total 20 columns):\n",
      " #   Column             Non-Null Count  Dtype  \n",
      "---  ------             --------------  -----  \n",
      " 0   shrimp             7500 non-null   object \n",
      " 1   almonds            5746 non-null   object \n",
      " 2   avocado            4388 non-null   object \n",
      " 3   vegetables mix     3344 non-null   object \n",
      " 4   green grapes       2528 non-null   object \n",
      " 5   whole weat flour   1863 non-null   object \n",
      " 6   yams               1368 non-null   object \n",
      " 7   cottage cheese     980 non-null    object \n",
      " 8   energy drink       653 non-null    object \n",
      " 9   tomato juice       394 non-null    object \n",
      " 10  low fat yogurt     255 non-null    object \n",
      " 11  green tea          153 non-null    object \n",
      " 12  honey              86 non-null     object \n",
      " 13  salad              46 non-null     object \n",
      " 14  mineral water      24 non-null     object \n",
      " 15  salmon             7 non-null      object \n",
      " 16  antioxydant juice  3 non-null      object \n",
      " 17  frozen smoothie    3 non-null      object \n",
      " 18  spinach            2 non-null      object \n",
      " 19  olive oil          0 non-null      float64\n",
      "dtypes: float64(1), object(19)\n",
      "memory usage: 1.1+ MB\n"
     ]
    }
   ],
   "source": [
    "DataMartek.info()"
   ]
  },
  {
   "cell_type": "code",
   "execution_count": 6,
   "metadata": {},
   "outputs": [
    {
     "data": {
      "application/vnd.microsoft.datawrangler.viewer.v0+json": {
       "columns": [
        {
         "name": "index",
         "rawType": "int64",
         "type": "integer"
        },
        {
         "name": " asparagus",
         "rawType": "bool",
         "type": "boolean"
        },
        {
         "name": "almonds",
         "rawType": "bool",
         "type": "boolean"
        },
        {
         "name": "antioxydant juice",
         "rawType": "bool",
         "type": "boolean"
        },
        {
         "name": "asparagus",
         "rawType": "bool",
         "type": "boolean"
        },
        {
         "name": "avocado",
         "rawType": "bool",
         "type": "boolean"
        },
        {
         "name": "babies food",
         "rawType": "bool",
         "type": "boolean"
        },
        {
         "name": "bacon",
         "rawType": "bool",
         "type": "boolean"
        },
        {
         "name": "barbecue sauce",
         "rawType": "bool",
         "type": "boolean"
        },
        {
         "name": "black tea",
         "rawType": "bool",
         "type": "boolean"
        },
        {
         "name": "blueberries",
         "rawType": "bool",
         "type": "boolean"
        },
        {
         "name": "body spray",
         "rawType": "bool",
         "type": "boolean"
        },
        {
         "name": "bramble",
         "rawType": "bool",
         "type": "boolean"
        },
        {
         "name": "brownies",
         "rawType": "bool",
         "type": "boolean"
        },
        {
         "name": "bug spray",
         "rawType": "bool",
         "type": "boolean"
        },
        {
         "name": "burger sauce",
         "rawType": "bool",
         "type": "boolean"
        },
        {
         "name": "burgers",
         "rawType": "bool",
         "type": "boolean"
        },
        {
         "name": "butter",
         "rawType": "bool",
         "type": "boolean"
        },
        {
         "name": "cake",
         "rawType": "bool",
         "type": "boolean"
        },
        {
         "name": "candy bars",
         "rawType": "bool",
         "type": "boolean"
        },
        {
         "name": "carrots",
         "rawType": "bool",
         "type": "boolean"
        },
        {
         "name": "cauliflower",
         "rawType": "bool",
         "type": "boolean"
        },
        {
         "name": "cereals",
         "rawType": "bool",
         "type": "boolean"
        },
        {
         "name": "champagne",
         "rawType": "bool",
         "type": "boolean"
        },
        {
         "name": "chicken",
         "rawType": "bool",
         "type": "boolean"
        },
        {
         "name": "chili",
         "rawType": "bool",
         "type": "boolean"
        },
        {
         "name": "chocolate",
         "rawType": "bool",
         "type": "boolean"
        },
        {
         "name": "chocolate bread",
         "rawType": "bool",
         "type": "boolean"
        },
        {
         "name": "chutney",
         "rawType": "bool",
         "type": "boolean"
        },
        {
         "name": "cider",
         "rawType": "bool",
         "type": "boolean"
        },
        {
         "name": "clothes accessories",
         "rawType": "bool",
         "type": "boolean"
        },
        {
         "name": "cookies",
         "rawType": "bool",
         "type": "boolean"
        },
        {
         "name": "cooking oil",
         "rawType": "bool",
         "type": "boolean"
        },
        {
         "name": "corn",
         "rawType": "bool",
         "type": "boolean"
        },
        {
         "name": "cottage cheese",
         "rawType": "bool",
         "type": "boolean"
        },
        {
         "name": "cream",
         "rawType": "bool",
         "type": "boolean"
        },
        {
         "name": "dessert wine",
         "rawType": "bool",
         "type": "boolean"
        },
        {
         "name": "eggplant",
         "rawType": "bool",
         "type": "boolean"
        },
        {
         "name": "eggs",
         "rawType": "bool",
         "type": "boolean"
        },
        {
         "name": "energy bar",
         "rawType": "bool",
         "type": "boolean"
        },
        {
         "name": "energy drink",
         "rawType": "bool",
         "type": "boolean"
        },
        {
         "name": "escalope",
         "rawType": "bool",
         "type": "boolean"
        },
        {
         "name": "extra dark chocolate",
         "rawType": "bool",
         "type": "boolean"
        },
        {
         "name": "flax seed",
         "rawType": "bool",
         "type": "boolean"
        },
        {
         "name": "french fries",
         "rawType": "bool",
         "type": "boolean"
        },
        {
         "name": "french wine",
         "rawType": "bool",
         "type": "boolean"
        },
        {
         "name": "fresh bread",
         "rawType": "bool",
         "type": "boolean"
        },
        {
         "name": "fresh tuna",
         "rawType": "bool",
         "type": "boolean"
        },
        {
         "name": "fromage blanc",
         "rawType": "bool",
         "type": "boolean"
        },
        {
         "name": "frozen smoothie",
         "rawType": "bool",
         "type": "boolean"
        },
        {
         "name": "frozen vegetables",
         "rawType": "bool",
         "type": "boolean"
        },
        {
         "name": "gluten free bar",
         "rawType": "bool",
         "type": "boolean"
        },
        {
         "name": "grated cheese",
         "rawType": "bool",
         "type": "boolean"
        },
        {
         "name": "green beans",
         "rawType": "bool",
         "type": "boolean"
        },
        {
         "name": "green grapes",
         "rawType": "bool",
         "type": "boolean"
        },
        {
         "name": "green tea",
         "rawType": "bool",
         "type": "boolean"
        },
        {
         "name": "ground beef",
         "rawType": "bool",
         "type": "boolean"
        },
        {
         "name": "gums",
         "rawType": "bool",
         "type": "boolean"
        },
        {
         "name": "ham",
         "rawType": "bool",
         "type": "boolean"
        },
        {
         "name": "hand protein bar",
         "rawType": "bool",
         "type": "boolean"
        },
        {
         "name": "herb & pepper",
         "rawType": "bool",
         "type": "boolean"
        },
        {
         "name": "honey",
         "rawType": "bool",
         "type": "boolean"
        },
        {
         "name": "hot dogs",
         "rawType": "bool",
         "type": "boolean"
        },
        {
         "name": "ketchup",
         "rawType": "bool",
         "type": "boolean"
        },
        {
         "name": "light cream",
         "rawType": "bool",
         "type": "boolean"
        },
        {
         "name": "light mayo",
         "rawType": "bool",
         "type": "boolean"
        },
        {
         "name": "low fat yogurt",
         "rawType": "bool",
         "type": "boolean"
        },
        {
         "name": "magazines",
         "rawType": "bool",
         "type": "boolean"
        },
        {
         "name": "mashed potato",
         "rawType": "bool",
         "type": "boolean"
        },
        {
         "name": "mayonnaise",
         "rawType": "bool",
         "type": "boolean"
        },
        {
         "name": "meatballs",
         "rawType": "bool",
         "type": "boolean"
        },
        {
         "name": "melons",
         "rawType": "bool",
         "type": "boolean"
        },
        {
         "name": "milk",
         "rawType": "bool",
         "type": "boolean"
        },
        {
         "name": "mineral water",
         "rawType": "bool",
         "type": "boolean"
        },
        {
         "name": "mint",
         "rawType": "bool",
         "type": "boolean"
        },
        {
         "name": "mint green tea",
         "rawType": "bool",
         "type": "boolean"
        },
        {
         "name": "muffins",
         "rawType": "bool",
         "type": "boolean"
        },
        {
         "name": "mushroom cream sauce",
         "rawType": "bool",
         "type": "boolean"
        },
        {
         "name": "napkins",
         "rawType": "bool",
         "type": "boolean"
        },
        {
         "name": "nonfat milk",
         "rawType": "bool",
         "type": "boolean"
        },
        {
         "name": "oatmeal",
         "rawType": "bool",
         "type": "boolean"
        },
        {
         "name": "oil",
         "rawType": "bool",
         "type": "boolean"
        },
        {
         "name": "olive oil",
         "rawType": "bool",
         "type": "boolean"
        },
        {
         "name": "pancakes",
         "rawType": "bool",
         "type": "boolean"
        },
        {
         "name": "parmesan cheese",
         "rawType": "bool",
         "type": "boolean"
        },
        {
         "name": "pasta",
         "rawType": "bool",
         "type": "boolean"
        },
        {
         "name": "pepper",
         "rawType": "bool",
         "type": "boolean"
        },
        {
         "name": "pet food",
         "rawType": "bool",
         "type": "boolean"
        },
        {
         "name": "pickles",
         "rawType": "bool",
         "type": "boolean"
        },
        {
         "name": "protein bar",
         "rawType": "bool",
         "type": "boolean"
        },
        {
         "name": "red wine",
         "rawType": "bool",
         "type": "boolean"
        },
        {
         "name": "rice",
         "rawType": "bool",
         "type": "boolean"
        },
        {
         "name": "salad",
         "rawType": "bool",
         "type": "boolean"
        },
        {
         "name": "salmon",
         "rawType": "bool",
         "type": "boolean"
        },
        {
         "name": "salt",
         "rawType": "bool",
         "type": "boolean"
        },
        {
         "name": "sandwich",
         "rawType": "bool",
         "type": "boolean"
        },
        {
         "name": "shallot",
         "rawType": "bool",
         "type": "boolean"
        },
        {
         "name": "shampoo",
         "rawType": "bool",
         "type": "boolean"
        },
        {
         "name": "shrimp",
         "rawType": "bool",
         "type": "boolean"
        },
        {
         "name": "soda",
         "rawType": "bool",
         "type": "boolean"
        },
        {
         "name": "soup",
         "rawType": "bool",
         "type": "boolean"
        },
        {
         "name": "spaghetti",
         "rawType": "bool",
         "type": "boolean"
        },
        {
         "name": "sparkling water",
         "rawType": "bool",
         "type": "boolean"
        },
        {
         "name": "spinach",
         "rawType": "bool",
         "type": "boolean"
        },
        {
         "name": "strawberries",
         "rawType": "bool",
         "type": "boolean"
        },
        {
         "name": "strong cheese",
         "rawType": "bool",
         "type": "boolean"
        },
        {
         "name": "tea",
         "rawType": "bool",
         "type": "boolean"
        },
        {
         "name": "tomato juice",
         "rawType": "bool",
         "type": "boolean"
        },
        {
         "name": "tomato sauce",
         "rawType": "bool",
         "type": "boolean"
        },
        {
         "name": "tomatoes",
         "rawType": "bool",
         "type": "boolean"
        },
        {
         "name": "toothpaste",
         "rawType": "bool",
         "type": "boolean"
        },
        {
         "name": "turkey",
         "rawType": "bool",
         "type": "boolean"
        },
        {
         "name": "vegetables mix",
         "rawType": "bool",
         "type": "boolean"
        },
        {
         "name": "water spray",
         "rawType": "bool",
         "type": "boolean"
        },
        {
         "name": "white wine",
         "rawType": "bool",
         "type": "boolean"
        },
        {
         "name": "whole weat flour",
         "rawType": "bool",
         "type": "boolean"
        },
        {
         "name": "whole wheat pasta",
         "rawType": "bool",
         "type": "boolean"
        },
        {
         "name": "whole wheat rice",
         "rawType": "bool",
         "type": "boolean"
        },
        {
         "name": "yams",
         "rawType": "bool",
         "type": "boolean"
        },
        {
         "name": "yogurt cake",
         "rawType": "bool",
         "type": "boolean"
        },
        {
         "name": "zucchini",
         "rawType": "bool",
         "type": "boolean"
        }
       ],
       "conversionMethod": "pd.DataFrame",
       "ref": "87c38409-237b-474f-bbe6-81b975cd8a56",
       "rows": [
        [
         "0",
         "False",
         "False",
         "False",
         "False",
         "False",
         "False",
         "False",
         "False",
         "False",
         "False",
         "False",
         "False",
         "False",
         "False",
         "False",
         "True",
         "False",
         "False",
         "False",
         "False",
         "False",
         "False",
         "False",
         "False",
         "False",
         "False",
         "False",
         "False",
         "False",
         "False",
         "False",
         "False",
         "False",
         "False",
         "False",
         "False",
         "False",
         "True",
         "False",
         "False",
         "False",
         "False",
         "False",
         "False",
         "False",
         "False",
         "False",
         "False",
         "False",
         "False",
         "False",
         "False",
         "False",
         "False",
         "False",
         "False",
         "False",
         "False",
         "False",
         "False",
         "False",
         "False",
         "False",
         "False",
         "False",
         "False",
         "False",
         "False",
         "False",
         "True",
         "False",
         "False",
         "False",
         "False",
         "False",
         "False",
         "False",
         "False",
         "False",
         "False",
         "False",
         "False",
         "False",
         "False",
         "False",
         "False",
         "False",
         "False",
         "False",
         "False",
         "False",
         "False",
         "False",
         "False",
         "False",
         "False",
         "False",
         "False",
         "False",
         "False",
         "False",
         "False",
         "False",
         "False",
         "False",
         "False",
         "False",
         "False",
         "False",
         "False",
         "False",
         "False",
         "False",
         "False",
         "False",
         "False",
         "False",
         "False",
         "False",
         "False"
        ],
        [
         "1",
         "False",
         "False",
         "False",
         "False",
         "False",
         "False",
         "False",
         "False",
         "False",
         "False",
         "False",
         "False",
         "False",
         "False",
         "False",
         "False",
         "False",
         "False",
         "False",
         "False",
         "False",
         "False",
         "False",
         "False",
         "False",
         "False",
         "False",
         "True",
         "False",
         "False",
         "False",
         "False",
         "False",
         "False",
         "False",
         "False",
         "False",
         "False",
         "False",
         "False",
         "False",
         "False",
         "False",
         "False",
         "False",
         "False",
         "False",
         "False",
         "False",
         "False",
         "False",
         "False",
         "False",
         "False",
         "False",
         "False",
         "False",
         "False",
         "False",
         "False",
         "False",
         "False",
         "False",
         "False",
         "False",
         "False",
         "False",
         "False",
         "False",
         "False",
         "False",
         "False",
         "False",
         "False",
         "False",
         "False",
         "False",
         "False",
         "False",
         "False",
         "False",
         "False",
         "False",
         "False",
         "False",
         "False",
         "False",
         "False",
         "False",
         "False",
         "False",
         "False",
         "False",
         "False",
         "False",
         "False",
         "False",
         "False",
         "False",
         "False",
         "False",
         "False",
         "False",
         "False",
         "False",
         "False",
         "False",
         "False",
         "False",
         "False",
         "False",
         "False",
         "False",
         "False",
         "False",
         "False",
         "False",
         "False",
         "False",
         "False"
        ],
        [
         "2",
         "False",
         "False",
         "False",
         "False",
         "True",
         "False",
         "False",
         "False",
         "False",
         "False",
         "False",
         "False",
         "False",
         "False",
         "False",
         "False",
         "False",
         "False",
         "False",
         "False",
         "False",
         "False",
         "False",
         "False",
         "False",
         "False",
         "False",
         "False",
         "False",
         "False",
         "False",
         "False",
         "False",
         "False",
         "False",
         "False",
         "False",
         "False",
         "False",
         "False",
         "False",
         "False",
         "False",
         "False",
         "False",
         "False",
         "False",
         "False",
         "False",
         "False",
         "False",
         "False",
         "False",
         "False",
         "False",
         "False",
         "False",
         "False",
         "False",
         "False",
         "False",
         "False",
         "False",
         "False",
         "False",
         "False",
         "False",
         "False",
         "False",
         "False",
         "False",
         "False",
         "False",
         "False",
         "False",
         "False",
         "False",
         "False",
         "False",
         "False",
         "False",
         "False",
         "False",
         "False",
         "False",
         "False",
         "False",
         "False",
         "False",
         "False",
         "False",
         "False",
         "False",
         "False",
         "False",
         "False",
         "False",
         "False",
         "False",
         "False",
         "False",
         "False",
         "False",
         "False",
         "False",
         "False",
         "False",
         "False",
         "False",
         "False",
         "True",
         "False",
         "False",
         "False",
         "False",
         "False",
         "False",
         "False",
         "False",
         "False"
        ],
        [
         "3",
         "False",
         "False",
         "False",
         "False",
         "False",
         "False",
         "False",
         "False",
         "False",
         "False",
         "False",
         "False",
         "False",
         "False",
         "False",
         "False",
         "False",
         "False",
         "False",
         "False",
         "False",
         "False",
         "False",
         "False",
         "False",
         "False",
         "False",
         "False",
         "False",
         "False",
         "False",
         "False",
         "False",
         "False",
         "False",
         "False",
         "False",
         "False",
         "True",
         "False",
         "False",
         "False",
         "False",
         "False",
         "False",
         "False",
         "False",
         "False",
         "False",
         "False",
         "False",
         "False",
         "False",
         "False",
         "True",
         "False",
         "False",
         "False",
         "False",
         "False",
         "False",
         "False",
         "False",
         "False",
         "False",
         "False",
         "False",
         "False",
         "False",
         "False",
         "False",
         "True",
         "True",
         "False",
         "False",
         "False",
         "False",
         "False",
         "False",
         "False",
         "False",
         "False",
         "False",
         "False",
         "False",
         "False",
         "False",
         "False",
         "False",
         "False",
         "False",
         "False",
         "False",
         "False",
         "False",
         "False",
         "False",
         "False",
         "False",
         "False",
         "False",
         "False",
         "False",
         "False",
         "False",
         "False",
         "False",
         "False",
         "False",
         "False",
         "False",
         "False",
         "False",
         "False",
         "False",
         "False",
         "True",
         "False",
         "False",
         "False"
        ],
        [
         "4",
         "False",
         "False",
         "False",
         "False",
         "False",
         "False",
         "False",
         "False",
         "False",
         "False",
         "False",
         "False",
         "False",
         "False",
         "False",
         "False",
         "False",
         "False",
         "False",
         "False",
         "False",
         "False",
         "False",
         "False",
         "False",
         "False",
         "False",
         "False",
         "False",
         "False",
         "False",
         "False",
         "False",
         "False",
         "False",
         "False",
         "False",
         "False",
         "False",
         "False",
         "False",
         "False",
         "False",
         "False",
         "False",
         "False",
         "False",
         "False",
         "False",
         "False",
         "False",
         "False",
         "False",
         "False",
         "False",
         "False",
         "False",
         "False",
         "False",
         "False",
         "False",
         "False",
         "False",
         "False",
         "False",
         "True",
         "False",
         "False",
         "False",
         "False",
         "False",
         "False",
         "False",
         "False",
         "False",
         "False",
         "False",
         "False",
         "False",
         "False",
         "False",
         "False",
         "False",
         "False",
         "False",
         "False",
         "False",
         "False",
         "False",
         "False",
         "False",
         "False",
         "False",
         "False",
         "False",
         "False",
         "False",
         "False",
         "False",
         "False",
         "False",
         "False",
         "False",
         "False",
         "False",
         "False",
         "False",
         "False",
         "False",
         "False",
         "False",
         "False",
         "False",
         "False",
         "False",
         "False",
         "False",
         "False",
         "False",
         "False"
        ]
       ],
       "shape": {
        "columns": 120,
        "rows": 5
       }
      },
      "text/html": [
       "<div>\n",
       "<style scoped>\n",
       "    .dataframe tbody tr th:only-of-type {\n",
       "        vertical-align: middle;\n",
       "    }\n",
       "\n",
       "    .dataframe tbody tr th {\n",
       "        vertical-align: top;\n",
       "    }\n",
       "\n",
       "    .dataframe thead th {\n",
       "        text-align: right;\n",
       "    }\n",
       "</style>\n",
       "<table border=\"1\" class=\"dataframe\">\n",
       "  <thead>\n",
       "    <tr style=\"text-align: right;\">\n",
       "      <th></th>\n",
       "      <th>asparagus</th>\n",
       "      <th>almonds</th>\n",
       "      <th>antioxydant juice</th>\n",
       "      <th>asparagus</th>\n",
       "      <th>avocado</th>\n",
       "      <th>babies food</th>\n",
       "      <th>bacon</th>\n",
       "      <th>barbecue sauce</th>\n",
       "      <th>black tea</th>\n",
       "      <th>blueberries</th>\n",
       "      <th>...</th>\n",
       "      <th>turkey</th>\n",
       "      <th>vegetables mix</th>\n",
       "      <th>water spray</th>\n",
       "      <th>white wine</th>\n",
       "      <th>whole weat flour</th>\n",
       "      <th>whole wheat pasta</th>\n",
       "      <th>whole wheat rice</th>\n",
       "      <th>yams</th>\n",
       "      <th>yogurt cake</th>\n",
       "      <th>zucchini</th>\n",
       "    </tr>\n",
       "  </thead>\n",
       "  <tbody>\n",
       "    <tr>\n",
       "      <th>0</th>\n",
       "      <td>False</td>\n",
       "      <td>False</td>\n",
       "      <td>False</td>\n",
       "      <td>False</td>\n",
       "      <td>False</td>\n",
       "      <td>False</td>\n",
       "      <td>False</td>\n",
       "      <td>False</td>\n",
       "      <td>False</td>\n",
       "      <td>False</td>\n",
       "      <td>...</td>\n",
       "      <td>False</td>\n",
       "      <td>False</td>\n",
       "      <td>False</td>\n",
       "      <td>False</td>\n",
       "      <td>False</td>\n",
       "      <td>False</td>\n",
       "      <td>False</td>\n",
       "      <td>False</td>\n",
       "      <td>False</td>\n",
       "      <td>False</td>\n",
       "    </tr>\n",
       "    <tr>\n",
       "      <th>1</th>\n",
       "      <td>False</td>\n",
       "      <td>False</td>\n",
       "      <td>False</td>\n",
       "      <td>False</td>\n",
       "      <td>False</td>\n",
       "      <td>False</td>\n",
       "      <td>False</td>\n",
       "      <td>False</td>\n",
       "      <td>False</td>\n",
       "      <td>False</td>\n",
       "      <td>...</td>\n",
       "      <td>False</td>\n",
       "      <td>False</td>\n",
       "      <td>False</td>\n",
       "      <td>False</td>\n",
       "      <td>False</td>\n",
       "      <td>False</td>\n",
       "      <td>False</td>\n",
       "      <td>False</td>\n",
       "      <td>False</td>\n",
       "      <td>False</td>\n",
       "    </tr>\n",
       "    <tr>\n",
       "      <th>2</th>\n",
       "      <td>False</td>\n",
       "      <td>False</td>\n",
       "      <td>False</td>\n",
       "      <td>False</td>\n",
       "      <td>True</td>\n",
       "      <td>False</td>\n",
       "      <td>False</td>\n",
       "      <td>False</td>\n",
       "      <td>False</td>\n",
       "      <td>False</td>\n",
       "      <td>...</td>\n",
       "      <td>True</td>\n",
       "      <td>False</td>\n",
       "      <td>False</td>\n",
       "      <td>False</td>\n",
       "      <td>False</td>\n",
       "      <td>False</td>\n",
       "      <td>False</td>\n",
       "      <td>False</td>\n",
       "      <td>False</td>\n",
       "      <td>False</td>\n",
       "    </tr>\n",
       "    <tr>\n",
       "      <th>3</th>\n",
       "      <td>False</td>\n",
       "      <td>False</td>\n",
       "      <td>False</td>\n",
       "      <td>False</td>\n",
       "      <td>False</td>\n",
       "      <td>False</td>\n",
       "      <td>False</td>\n",
       "      <td>False</td>\n",
       "      <td>False</td>\n",
       "      <td>False</td>\n",
       "      <td>...</td>\n",
       "      <td>False</td>\n",
       "      <td>False</td>\n",
       "      <td>False</td>\n",
       "      <td>False</td>\n",
       "      <td>False</td>\n",
       "      <td>False</td>\n",
       "      <td>True</td>\n",
       "      <td>False</td>\n",
       "      <td>False</td>\n",
       "      <td>False</td>\n",
       "    </tr>\n",
       "    <tr>\n",
       "      <th>4</th>\n",
       "      <td>False</td>\n",
       "      <td>False</td>\n",
       "      <td>False</td>\n",
       "      <td>False</td>\n",
       "      <td>False</td>\n",
       "      <td>False</td>\n",
       "      <td>False</td>\n",
       "      <td>False</td>\n",
       "      <td>False</td>\n",
       "      <td>False</td>\n",
       "      <td>...</td>\n",
       "      <td>False</td>\n",
       "      <td>False</td>\n",
       "      <td>False</td>\n",
       "      <td>False</td>\n",
       "      <td>False</td>\n",
       "      <td>False</td>\n",
       "      <td>False</td>\n",
       "      <td>False</td>\n",
       "      <td>False</td>\n",
       "      <td>False</td>\n",
       "    </tr>\n",
       "  </tbody>\n",
       "</table>\n",
       "<p>5 rows × 120 columns</p>\n",
       "</div>"
      ],
      "text/plain": [
       "    asparagus  almonds  antioxydant juice  asparagus  avocado  babies food  \\\n",
       "0       False    False              False      False    False        False   \n",
       "1       False    False              False      False    False        False   \n",
       "2       False    False              False      False     True        False   \n",
       "3       False    False              False      False    False        False   \n",
       "4       False    False              False      False    False        False   \n",
       "\n",
       "   bacon  barbecue sauce  black tea  blueberries  ...  turkey  vegetables mix  \\\n",
       "0  False           False      False        False  ...   False           False   \n",
       "1  False           False      False        False  ...   False           False   \n",
       "2  False           False      False        False  ...    True           False   \n",
       "3  False           False      False        False  ...   False           False   \n",
       "4  False           False      False        False  ...   False           False   \n",
       "\n",
       "   water spray  white wine  whole weat flour  whole wheat pasta  \\\n",
       "0        False       False             False              False   \n",
       "1        False       False             False              False   \n",
       "2        False       False             False              False   \n",
       "3        False       False             False              False   \n",
       "4        False       False             False              False   \n",
       "\n",
       "   whole wheat rice   yams  yogurt cake  zucchini  \n",
       "0             False  False        False     False  \n",
       "1             False  False        False     False  \n",
       "2             False  False        False     False  \n",
       "3              True  False        False     False  \n",
       "4             False  False        False     False  \n",
       "\n",
       "[5 rows x 120 columns]"
      ]
     },
     "execution_count": 6,
     "metadata": {},
     "output_type": "execute_result"
    }
   ],
   "source": [
    "\"\"\"te=TransactionEncoder()\n",
    "DataMartek_ary=te.fit(DataMartek).transform(DataMartek)    #Apply one-hot-encoding on our dataset\n",
    "DataFrame=pd.DataFrame(DataMartek_ary, columns=te.columns_)  #Creating a new DataFrame from our Numpy array\n",
    "print(DataFrame)\"\"\"\n",
    "\n",
    "# Apply one-hot encoding\n",
    "DataMartek_encoded = pd.get_dummies(DataMartek.stack(), dtype = bool).groupby(level=0).max()\n",
    "\n",
    "# Display the one-hot encoded DataFrame\n",
    "DataMartek_encoded.head()"
   ]
  },
  {
   "cell_type": "code",
   "execution_count": 7,
   "metadata": {},
   "outputs": [
    {
     "data": {
      "application/vnd.plotly.v1+json": {
       "config": {
        "plotlyServerURL": "https://plot.ly"
       },
       "data": [
        {
         "hovertemplate": "Items=%{x}<br>Frequency=%{y}<extra></extra>",
         "legendgroup": "",
         "marker": {
          "color": "#636efa",
          "pattern": {
           "shape": ""
          }
         },
         "name": "",
         "orientation": "v",
         "showlegend": false,
         "textposition": "auto",
         "type": "bar",
         "x": [
          "mineral water",
          "eggs",
          "spaghetti",
          "french fries",
          "chocolate",
          "green tea",
          "milk",
          "ground beef",
          "frozen vegetables",
          "pancakes",
          "burgers",
          "cake",
          "cookies",
          "escalope",
          "low fat yogurt",
          "shrimp",
          "tomatoes",
          "olive oil",
          "frozen smoothie",
          "turkey",
          "chicken",
          "whole wheat rice",
          "grated cheese",
          "cooking oil",
          "soup",
          "herb & pepper",
          "honey",
          "champagne",
          "fresh bread",
          "salmon",
          "brownies",
          "avocado",
          "hot dogs",
          "cottage cheese",
          "tomato juice",
          "butter",
          "whole wheat pasta",
          "red wine",
          "yogurt cake",
          "light mayo",
          "energy bar",
          "energy drink",
          "ham",
          "pepper",
          "cereals",
          "vegetables mix",
          "muffins",
          "oil",
          "french wine",
          "fresh tuna",
          "strawberries",
          "meatballs",
          "almonds",
          "parmesan cheese",
          "mushroom cream sauce",
          "rice",
          "protein bar",
          "mint",
          "white wine",
          "pasta",
          "light cream",
          "carrots",
          "black tea",
          "tomato sauce",
          "fromage blanc",
          "gums",
          "eggplant",
          "melons",
          "extra dark chocolate",
          "body spray",
          "yams",
          "magazines",
          "barbecue sauce",
          "cider",
          "nonfat milk",
          "candy bars",
          "zucchini",
          "whole weat flour",
          "blueberries",
          "salt",
          "flax seed",
          "green grapes",
          "antioxydant juice",
          "bacon",
          "green beans",
          "bug spray",
          "clothes accessories",
          "toothpaste",
          "strong cheese",
          "shallot",
          "spinach",
          "gluten free bar",
          "pet food",
          "sparkling water",
          "soda",
          "mayonnaise",
          "chili",
          "pickles",
          "burger sauce",
          "mint green tea",
          "hand protein bar",
          "shampoo",
          "cauliflower",
          "corn",
          "salad",
          "asparagus",
          "sandwich",
          "babies food",
          "dessert wine",
          "ketchup",
          "oatmeal",
          "chocolate bread",
          "chutney",
          "mashed potato",
          "tea",
          "bramble",
          "cream",
          "napkins",
          "water spray",
          " asparagus"
         ],
         "xaxis": "x",
         "y": {
          "bdata": "+wZEBRoFAgXNBN4DzAPhAssCyQKOAmACWwJTAj0CFwIBAu0B2gHVAcIBtwGJAX8BewFzAWMBXwFDAT4B/QD5APMA7gDjAOIA3QDTAM0AzADLAMcAxwDHAMEAwAC1AK0AqQCnAKAAnQCYAJUAjwCNAIsAgwB8AHYAdQBzAGsAagBmAGUAYwBaAFoAVgBVAFIAUQBPAE4ASQBHAEUARQBFAEQAQwBCAEEAQQBBAD8APQA6ADoANAA0ADEALwAvAC4ALgAtACwAKgAnACUAJAAkACQAIwAiACIAIQAhACEAIAAfAB8AHQAOAAcABQADAAEA",
          "dtype": "i2"
         },
         "yaxis": "y"
        }
       ],
       "layout": {
        "barmode": "relative",
        "legend": {
         "tracegroupgap": 0
        },
        "template": {
         "data": {
          "bar": [
           {
            "error_x": {
             "color": "#2a3f5f"
            },
            "error_y": {
             "color": "#2a3f5f"
            },
            "marker": {
             "line": {
              "color": "#E5ECF6",
              "width": 0.5
             },
             "pattern": {
              "fillmode": "overlay",
              "size": 10,
              "solidity": 0.2
             }
            },
            "type": "bar"
           }
          ],
          "barpolar": [
           {
            "marker": {
             "line": {
              "color": "#E5ECF6",
              "width": 0.5
             },
             "pattern": {
              "fillmode": "overlay",
              "size": 10,
              "solidity": 0.2
             }
            },
            "type": "barpolar"
           }
          ],
          "carpet": [
           {
            "aaxis": {
             "endlinecolor": "#2a3f5f",
             "gridcolor": "white",
             "linecolor": "white",
             "minorgridcolor": "white",
             "startlinecolor": "#2a3f5f"
            },
            "baxis": {
             "endlinecolor": "#2a3f5f",
             "gridcolor": "white",
             "linecolor": "white",
             "minorgridcolor": "white",
             "startlinecolor": "#2a3f5f"
            },
            "type": "carpet"
           }
          ],
          "choropleth": [
           {
            "colorbar": {
             "outlinewidth": 0,
             "ticks": ""
            },
            "type": "choropleth"
           }
          ],
          "contour": [
           {
            "colorbar": {
             "outlinewidth": 0,
             "ticks": ""
            },
            "colorscale": [
             [
              0,
              "#0d0887"
             ],
             [
              0.1111111111111111,
              "#46039f"
             ],
             [
              0.2222222222222222,
              "#7201a8"
             ],
             [
              0.3333333333333333,
              "#9c179e"
             ],
             [
              0.4444444444444444,
              "#bd3786"
             ],
             [
              0.5555555555555556,
              "#d8576b"
             ],
             [
              0.6666666666666666,
              "#ed7953"
             ],
             [
              0.7777777777777778,
              "#fb9f3a"
             ],
             [
              0.8888888888888888,
              "#fdca26"
             ],
             [
              1,
              "#f0f921"
             ]
            ],
            "type": "contour"
           }
          ],
          "contourcarpet": [
           {
            "colorbar": {
             "outlinewidth": 0,
             "ticks": ""
            },
            "type": "contourcarpet"
           }
          ],
          "heatmap": [
           {
            "colorbar": {
             "outlinewidth": 0,
             "ticks": ""
            },
            "colorscale": [
             [
              0,
              "#0d0887"
             ],
             [
              0.1111111111111111,
              "#46039f"
             ],
             [
              0.2222222222222222,
              "#7201a8"
             ],
             [
              0.3333333333333333,
              "#9c179e"
             ],
             [
              0.4444444444444444,
              "#bd3786"
             ],
             [
              0.5555555555555556,
              "#d8576b"
             ],
             [
              0.6666666666666666,
              "#ed7953"
             ],
             [
              0.7777777777777778,
              "#fb9f3a"
             ],
             [
              0.8888888888888888,
              "#fdca26"
             ],
             [
              1,
              "#f0f921"
             ]
            ],
            "type": "heatmap"
           }
          ],
          "histogram": [
           {
            "marker": {
             "pattern": {
              "fillmode": "overlay",
              "size": 10,
              "solidity": 0.2
             }
            },
            "type": "histogram"
           }
          ],
          "histogram2d": [
           {
            "colorbar": {
             "outlinewidth": 0,
             "ticks": ""
            },
            "colorscale": [
             [
              0,
              "#0d0887"
             ],
             [
              0.1111111111111111,
              "#46039f"
             ],
             [
              0.2222222222222222,
              "#7201a8"
             ],
             [
              0.3333333333333333,
              "#9c179e"
             ],
             [
              0.4444444444444444,
              "#bd3786"
             ],
             [
              0.5555555555555556,
              "#d8576b"
             ],
             [
              0.6666666666666666,
              "#ed7953"
             ],
             [
              0.7777777777777778,
              "#fb9f3a"
             ],
             [
              0.8888888888888888,
              "#fdca26"
             ],
             [
              1,
              "#f0f921"
             ]
            ],
            "type": "histogram2d"
           }
          ],
          "histogram2dcontour": [
           {
            "colorbar": {
             "outlinewidth": 0,
             "ticks": ""
            },
            "colorscale": [
             [
              0,
              "#0d0887"
             ],
             [
              0.1111111111111111,
              "#46039f"
             ],
             [
              0.2222222222222222,
              "#7201a8"
             ],
             [
              0.3333333333333333,
              "#9c179e"
             ],
             [
              0.4444444444444444,
              "#bd3786"
             ],
             [
              0.5555555555555556,
              "#d8576b"
             ],
             [
              0.6666666666666666,
              "#ed7953"
             ],
             [
              0.7777777777777778,
              "#fb9f3a"
             ],
             [
              0.8888888888888888,
              "#fdca26"
             ],
             [
              1,
              "#f0f921"
             ]
            ],
            "type": "histogram2dcontour"
           }
          ],
          "mesh3d": [
           {
            "colorbar": {
             "outlinewidth": 0,
             "ticks": ""
            },
            "type": "mesh3d"
           }
          ],
          "parcoords": [
           {
            "line": {
             "colorbar": {
              "outlinewidth": 0,
              "ticks": ""
             }
            },
            "type": "parcoords"
           }
          ],
          "pie": [
           {
            "automargin": true,
            "type": "pie"
           }
          ],
          "scatter": [
           {
            "fillpattern": {
             "fillmode": "overlay",
             "size": 10,
             "solidity": 0.2
            },
            "type": "scatter"
           }
          ],
          "scatter3d": [
           {
            "line": {
             "colorbar": {
              "outlinewidth": 0,
              "ticks": ""
             }
            },
            "marker": {
             "colorbar": {
              "outlinewidth": 0,
              "ticks": ""
             }
            },
            "type": "scatter3d"
           }
          ],
          "scattercarpet": [
           {
            "marker": {
             "colorbar": {
              "outlinewidth": 0,
              "ticks": ""
             }
            },
            "type": "scattercarpet"
           }
          ],
          "scattergeo": [
           {
            "marker": {
             "colorbar": {
              "outlinewidth": 0,
              "ticks": ""
             }
            },
            "type": "scattergeo"
           }
          ],
          "scattergl": [
           {
            "marker": {
             "colorbar": {
              "outlinewidth": 0,
              "ticks": ""
             }
            },
            "type": "scattergl"
           }
          ],
          "scattermap": [
           {
            "marker": {
             "colorbar": {
              "outlinewidth": 0,
              "ticks": ""
             }
            },
            "type": "scattermap"
           }
          ],
          "scattermapbox": [
           {
            "marker": {
             "colorbar": {
              "outlinewidth": 0,
              "ticks": ""
             }
            },
            "type": "scattermapbox"
           }
          ],
          "scatterpolar": [
           {
            "marker": {
             "colorbar": {
              "outlinewidth": 0,
              "ticks": ""
             }
            },
            "type": "scatterpolar"
           }
          ],
          "scatterpolargl": [
           {
            "marker": {
             "colorbar": {
              "outlinewidth": 0,
              "ticks": ""
             }
            },
            "type": "scatterpolargl"
           }
          ],
          "scatterternary": [
           {
            "marker": {
             "colorbar": {
              "outlinewidth": 0,
              "ticks": ""
             }
            },
            "type": "scatterternary"
           }
          ],
          "surface": [
           {
            "colorbar": {
             "outlinewidth": 0,
             "ticks": ""
            },
            "colorscale": [
             [
              0,
              "#0d0887"
             ],
             [
              0.1111111111111111,
              "#46039f"
             ],
             [
              0.2222222222222222,
              "#7201a8"
             ],
             [
              0.3333333333333333,
              "#9c179e"
             ],
             [
              0.4444444444444444,
              "#bd3786"
             ],
             [
              0.5555555555555556,
              "#d8576b"
             ],
             [
              0.6666666666666666,
              "#ed7953"
             ],
             [
              0.7777777777777778,
              "#fb9f3a"
             ],
             [
              0.8888888888888888,
              "#fdca26"
             ],
             [
              1,
              "#f0f921"
             ]
            ],
            "type": "surface"
           }
          ],
          "table": [
           {
            "cells": {
             "fill": {
              "color": "#EBF0F8"
             },
             "line": {
              "color": "white"
             }
            },
            "header": {
             "fill": {
              "color": "#C8D4E3"
             },
             "line": {
              "color": "white"
             }
            },
            "type": "table"
           }
          ]
         },
         "layout": {
          "annotationdefaults": {
           "arrowcolor": "#2a3f5f",
           "arrowhead": 0,
           "arrowwidth": 1
          },
          "autotypenumbers": "strict",
          "coloraxis": {
           "colorbar": {
            "outlinewidth": 0,
            "ticks": ""
           }
          },
          "colorscale": {
           "diverging": [
            [
             0,
             "#8e0152"
            ],
            [
             0.1,
             "#c51b7d"
            ],
            [
             0.2,
             "#de77ae"
            ],
            [
             0.3,
             "#f1b6da"
            ],
            [
             0.4,
             "#fde0ef"
            ],
            [
             0.5,
             "#f7f7f7"
            ],
            [
             0.6,
             "#e6f5d0"
            ],
            [
             0.7,
             "#b8e186"
            ],
            [
             0.8,
             "#7fbc41"
            ],
            [
             0.9,
             "#4d9221"
            ],
            [
             1,
             "#276419"
            ]
           ],
           "sequential": [
            [
             0,
             "#0d0887"
            ],
            [
             0.1111111111111111,
             "#46039f"
            ],
            [
             0.2222222222222222,
             "#7201a8"
            ],
            [
             0.3333333333333333,
             "#9c179e"
            ],
            [
             0.4444444444444444,
             "#bd3786"
            ],
            [
             0.5555555555555556,
             "#d8576b"
            ],
            [
             0.6666666666666666,
             "#ed7953"
            ],
            [
             0.7777777777777778,
             "#fb9f3a"
            ],
            [
             0.8888888888888888,
             "#fdca26"
            ],
            [
             1,
             "#f0f921"
            ]
           ],
           "sequentialminus": [
            [
             0,
             "#0d0887"
            ],
            [
             0.1111111111111111,
             "#46039f"
            ],
            [
             0.2222222222222222,
             "#7201a8"
            ],
            [
             0.3333333333333333,
             "#9c179e"
            ],
            [
             0.4444444444444444,
             "#bd3786"
            ],
            [
             0.5555555555555556,
             "#d8576b"
            ],
            [
             0.6666666666666666,
             "#ed7953"
            ],
            [
             0.7777777777777778,
             "#fb9f3a"
            ],
            [
             0.8888888888888888,
             "#fdca26"
            ],
            [
             1,
             "#f0f921"
            ]
           ]
          },
          "colorway": [
           "#636efa",
           "#EF553B",
           "#00cc96",
           "#ab63fa",
           "#FFA15A",
           "#19d3f3",
           "#FF6692",
           "#B6E880",
           "#FF97FF",
           "#FECB52"
          ],
          "font": {
           "color": "#2a3f5f"
          },
          "geo": {
           "bgcolor": "white",
           "lakecolor": "white",
           "landcolor": "#E5ECF6",
           "showlakes": true,
           "showland": true,
           "subunitcolor": "white"
          },
          "hoverlabel": {
           "align": "left"
          },
          "hovermode": "closest",
          "mapbox": {
           "style": "light"
          },
          "paper_bgcolor": "white",
          "plot_bgcolor": "#E5ECF6",
          "polar": {
           "angularaxis": {
            "gridcolor": "white",
            "linecolor": "white",
            "ticks": ""
           },
           "bgcolor": "#E5ECF6",
           "radialaxis": {
            "gridcolor": "white",
            "linecolor": "white",
            "ticks": ""
           }
          },
          "scene": {
           "xaxis": {
            "backgroundcolor": "#E5ECF6",
            "gridcolor": "white",
            "gridwidth": 2,
            "linecolor": "white",
            "showbackground": true,
            "ticks": "",
            "zerolinecolor": "white"
           },
           "yaxis": {
            "backgroundcolor": "#E5ECF6",
            "gridcolor": "white",
            "gridwidth": 2,
            "linecolor": "white",
            "showbackground": true,
            "ticks": "",
            "zerolinecolor": "white"
           },
           "zaxis": {
            "backgroundcolor": "#E5ECF6",
            "gridcolor": "white",
            "gridwidth": 2,
            "linecolor": "white",
            "showbackground": true,
            "ticks": "",
            "zerolinecolor": "white"
           }
          },
          "shapedefaults": {
           "line": {
            "color": "#2a3f5f"
           }
          },
          "ternary": {
           "aaxis": {
            "gridcolor": "white",
            "linecolor": "white",
            "ticks": ""
           },
           "baxis": {
            "gridcolor": "white",
            "linecolor": "white",
            "ticks": ""
           },
           "bgcolor": "#E5ECF6",
           "caxis": {
            "gridcolor": "white",
            "linecolor": "white",
            "ticks": ""
           }
          },
          "title": {
           "x": 0.05
          },
          "xaxis": {
           "automargin": true,
           "gridcolor": "white",
           "linecolor": "white",
           "ticks": "",
           "title": {
            "standoff": 15
           },
           "zerolinecolor": "white",
           "zerolinewidth": 2
          },
          "yaxis": {
           "automargin": true,
           "gridcolor": "white",
           "linecolor": "white",
           "ticks": "",
           "title": {
            "standoff": 15
           },
           "zerolinecolor": "white",
           "zerolinewidth": 2
          }
         }
        },
        "title": {
         "text": "Item Frequencies"
        },
        "xaxis": {
         "anchor": "y",
         "domain": [
          0,
          1
         ],
         "tickangle": -45,
         "title": {
          "text": "Items"
         }
        },
        "yaxis": {
         "anchor": "x",
         "domain": [
          0,
          1
         ],
         "title": {
          "text": "Frequency"
         }
        }
       }
      }
     },
     "metadata": {},
     "output_type": "display_data"
    }
   ],
   "source": [
    "# Count the frequency of each item\n",
    "item_freq = DataMartek_encoded.sum().sort_values(ascending=False)\n",
    "\n",
    "# Create a bar plot using Plotly\n",
    "fig = px.bar(x=item_freq.index, y=item_freq.values, labels={'x': 'Items', 'y': 'Frequency'}, title='Item Frequencies')\n",
    "fig.update_xaxes(tickangle=-45)\n",
    "fig.show()"
   ]
  },
  {
   "cell_type": "code",
   "execution_count": 8,
   "metadata": {},
   "outputs": [
    {
     "data": {
      "application/vnd.plotly.v1+json": {
       "config": {
        "plotlyServerURL": "https://plot.ly"
       },
       "data": [
        {
         "hovertemplate": "Items=%{x}<br>Frequency=%{y}<extra></extra>",
         "legendgroup": "",
         "marker": {
          "color": "#636efa",
          "pattern": {
           "shape": ""
          }
         },
         "name": "",
         "orientation": "v",
         "showlegend": false,
         "textposition": "auto",
         "type": "bar",
         "x": [
          "mineral water",
          "eggs",
          "spaghetti",
          "french fries",
          "chocolate",
          "green tea",
          "milk",
          "ground beef",
          "frozen vegetables",
          "pancakes"
         ],
         "xaxis": "x",
         "y": {
          "bdata": "+wZEBRoFAgXNBN4DzAPhAssCyQI=",
          "dtype": "i2"
         },
         "yaxis": "y"
        }
       ],
       "layout": {
        "barmode": "relative",
        "legend": {
         "tracegroupgap": 0
        },
        "template": {
         "data": {
          "bar": [
           {
            "error_x": {
             "color": "#2a3f5f"
            },
            "error_y": {
             "color": "#2a3f5f"
            },
            "marker": {
             "line": {
              "color": "#E5ECF6",
              "width": 0.5
             },
             "pattern": {
              "fillmode": "overlay",
              "size": 10,
              "solidity": 0.2
             }
            },
            "type": "bar"
           }
          ],
          "barpolar": [
           {
            "marker": {
             "line": {
              "color": "#E5ECF6",
              "width": 0.5
             },
             "pattern": {
              "fillmode": "overlay",
              "size": 10,
              "solidity": 0.2
             }
            },
            "type": "barpolar"
           }
          ],
          "carpet": [
           {
            "aaxis": {
             "endlinecolor": "#2a3f5f",
             "gridcolor": "white",
             "linecolor": "white",
             "minorgridcolor": "white",
             "startlinecolor": "#2a3f5f"
            },
            "baxis": {
             "endlinecolor": "#2a3f5f",
             "gridcolor": "white",
             "linecolor": "white",
             "minorgridcolor": "white",
             "startlinecolor": "#2a3f5f"
            },
            "type": "carpet"
           }
          ],
          "choropleth": [
           {
            "colorbar": {
             "outlinewidth": 0,
             "ticks": ""
            },
            "type": "choropleth"
           }
          ],
          "contour": [
           {
            "colorbar": {
             "outlinewidth": 0,
             "ticks": ""
            },
            "colorscale": [
             [
              0,
              "#0d0887"
             ],
             [
              0.1111111111111111,
              "#46039f"
             ],
             [
              0.2222222222222222,
              "#7201a8"
             ],
             [
              0.3333333333333333,
              "#9c179e"
             ],
             [
              0.4444444444444444,
              "#bd3786"
             ],
             [
              0.5555555555555556,
              "#d8576b"
             ],
             [
              0.6666666666666666,
              "#ed7953"
             ],
             [
              0.7777777777777778,
              "#fb9f3a"
             ],
             [
              0.8888888888888888,
              "#fdca26"
             ],
             [
              1,
              "#f0f921"
             ]
            ],
            "type": "contour"
           }
          ],
          "contourcarpet": [
           {
            "colorbar": {
             "outlinewidth": 0,
             "ticks": ""
            },
            "type": "contourcarpet"
           }
          ],
          "heatmap": [
           {
            "colorbar": {
             "outlinewidth": 0,
             "ticks": ""
            },
            "colorscale": [
             [
              0,
              "#0d0887"
             ],
             [
              0.1111111111111111,
              "#46039f"
             ],
             [
              0.2222222222222222,
              "#7201a8"
             ],
             [
              0.3333333333333333,
              "#9c179e"
             ],
             [
              0.4444444444444444,
              "#bd3786"
             ],
             [
              0.5555555555555556,
              "#d8576b"
             ],
             [
              0.6666666666666666,
              "#ed7953"
             ],
             [
              0.7777777777777778,
              "#fb9f3a"
             ],
             [
              0.8888888888888888,
              "#fdca26"
             ],
             [
              1,
              "#f0f921"
             ]
            ],
            "type": "heatmap"
           }
          ],
          "histogram": [
           {
            "marker": {
             "pattern": {
              "fillmode": "overlay",
              "size": 10,
              "solidity": 0.2
             }
            },
            "type": "histogram"
           }
          ],
          "histogram2d": [
           {
            "colorbar": {
             "outlinewidth": 0,
             "ticks": ""
            },
            "colorscale": [
             [
              0,
              "#0d0887"
             ],
             [
              0.1111111111111111,
              "#46039f"
             ],
             [
              0.2222222222222222,
              "#7201a8"
             ],
             [
              0.3333333333333333,
              "#9c179e"
             ],
             [
              0.4444444444444444,
              "#bd3786"
             ],
             [
              0.5555555555555556,
              "#d8576b"
             ],
             [
              0.6666666666666666,
              "#ed7953"
             ],
             [
              0.7777777777777778,
              "#fb9f3a"
             ],
             [
              0.8888888888888888,
              "#fdca26"
             ],
             [
              1,
              "#f0f921"
             ]
            ],
            "type": "histogram2d"
           }
          ],
          "histogram2dcontour": [
           {
            "colorbar": {
             "outlinewidth": 0,
             "ticks": ""
            },
            "colorscale": [
             [
              0,
              "#0d0887"
             ],
             [
              0.1111111111111111,
              "#46039f"
             ],
             [
              0.2222222222222222,
              "#7201a8"
             ],
             [
              0.3333333333333333,
              "#9c179e"
             ],
             [
              0.4444444444444444,
              "#bd3786"
             ],
             [
              0.5555555555555556,
              "#d8576b"
             ],
             [
              0.6666666666666666,
              "#ed7953"
             ],
             [
              0.7777777777777778,
              "#fb9f3a"
             ],
             [
              0.8888888888888888,
              "#fdca26"
             ],
             [
              1,
              "#f0f921"
             ]
            ],
            "type": "histogram2dcontour"
           }
          ],
          "mesh3d": [
           {
            "colorbar": {
             "outlinewidth": 0,
             "ticks": ""
            },
            "type": "mesh3d"
           }
          ],
          "parcoords": [
           {
            "line": {
             "colorbar": {
              "outlinewidth": 0,
              "ticks": ""
             }
            },
            "type": "parcoords"
           }
          ],
          "pie": [
           {
            "automargin": true,
            "type": "pie"
           }
          ],
          "scatter": [
           {
            "fillpattern": {
             "fillmode": "overlay",
             "size": 10,
             "solidity": 0.2
            },
            "type": "scatter"
           }
          ],
          "scatter3d": [
           {
            "line": {
             "colorbar": {
              "outlinewidth": 0,
              "ticks": ""
             }
            },
            "marker": {
             "colorbar": {
              "outlinewidth": 0,
              "ticks": ""
             }
            },
            "type": "scatter3d"
           }
          ],
          "scattercarpet": [
           {
            "marker": {
             "colorbar": {
              "outlinewidth": 0,
              "ticks": ""
             }
            },
            "type": "scattercarpet"
           }
          ],
          "scattergeo": [
           {
            "marker": {
             "colorbar": {
              "outlinewidth": 0,
              "ticks": ""
             }
            },
            "type": "scattergeo"
           }
          ],
          "scattergl": [
           {
            "marker": {
             "colorbar": {
              "outlinewidth": 0,
              "ticks": ""
             }
            },
            "type": "scattergl"
           }
          ],
          "scattermap": [
           {
            "marker": {
             "colorbar": {
              "outlinewidth": 0,
              "ticks": ""
             }
            },
            "type": "scattermap"
           }
          ],
          "scattermapbox": [
           {
            "marker": {
             "colorbar": {
              "outlinewidth": 0,
              "ticks": ""
             }
            },
            "type": "scattermapbox"
           }
          ],
          "scatterpolar": [
           {
            "marker": {
             "colorbar": {
              "outlinewidth": 0,
              "ticks": ""
             }
            },
            "type": "scatterpolar"
           }
          ],
          "scatterpolargl": [
           {
            "marker": {
             "colorbar": {
              "outlinewidth": 0,
              "ticks": ""
             }
            },
            "type": "scatterpolargl"
           }
          ],
          "scatterternary": [
           {
            "marker": {
             "colorbar": {
              "outlinewidth": 0,
              "ticks": ""
             }
            },
            "type": "scatterternary"
           }
          ],
          "surface": [
           {
            "colorbar": {
             "outlinewidth": 0,
             "ticks": ""
            },
            "colorscale": [
             [
              0,
              "#0d0887"
             ],
             [
              0.1111111111111111,
              "#46039f"
             ],
             [
              0.2222222222222222,
              "#7201a8"
             ],
             [
              0.3333333333333333,
              "#9c179e"
             ],
             [
              0.4444444444444444,
              "#bd3786"
             ],
             [
              0.5555555555555556,
              "#d8576b"
             ],
             [
              0.6666666666666666,
              "#ed7953"
             ],
             [
              0.7777777777777778,
              "#fb9f3a"
             ],
             [
              0.8888888888888888,
              "#fdca26"
             ],
             [
              1,
              "#f0f921"
             ]
            ],
            "type": "surface"
           }
          ],
          "table": [
           {
            "cells": {
             "fill": {
              "color": "#EBF0F8"
             },
             "line": {
              "color": "white"
             }
            },
            "header": {
             "fill": {
              "color": "#C8D4E3"
             },
             "line": {
              "color": "white"
             }
            },
            "type": "table"
           }
          ]
         },
         "layout": {
          "annotationdefaults": {
           "arrowcolor": "#2a3f5f",
           "arrowhead": 0,
           "arrowwidth": 1
          },
          "autotypenumbers": "strict",
          "coloraxis": {
           "colorbar": {
            "outlinewidth": 0,
            "ticks": ""
           }
          },
          "colorscale": {
           "diverging": [
            [
             0,
             "#8e0152"
            ],
            [
             0.1,
             "#c51b7d"
            ],
            [
             0.2,
             "#de77ae"
            ],
            [
             0.3,
             "#f1b6da"
            ],
            [
             0.4,
             "#fde0ef"
            ],
            [
             0.5,
             "#f7f7f7"
            ],
            [
             0.6,
             "#e6f5d0"
            ],
            [
             0.7,
             "#b8e186"
            ],
            [
             0.8,
             "#7fbc41"
            ],
            [
             0.9,
             "#4d9221"
            ],
            [
             1,
             "#276419"
            ]
           ],
           "sequential": [
            [
             0,
             "#0d0887"
            ],
            [
             0.1111111111111111,
             "#46039f"
            ],
            [
             0.2222222222222222,
             "#7201a8"
            ],
            [
             0.3333333333333333,
             "#9c179e"
            ],
            [
             0.4444444444444444,
             "#bd3786"
            ],
            [
             0.5555555555555556,
             "#d8576b"
            ],
            [
             0.6666666666666666,
             "#ed7953"
            ],
            [
             0.7777777777777778,
             "#fb9f3a"
            ],
            [
             0.8888888888888888,
             "#fdca26"
            ],
            [
             1,
             "#f0f921"
            ]
           ],
           "sequentialminus": [
            [
             0,
             "#0d0887"
            ],
            [
             0.1111111111111111,
             "#46039f"
            ],
            [
             0.2222222222222222,
             "#7201a8"
            ],
            [
             0.3333333333333333,
             "#9c179e"
            ],
            [
             0.4444444444444444,
             "#bd3786"
            ],
            [
             0.5555555555555556,
             "#d8576b"
            ],
            [
             0.6666666666666666,
             "#ed7953"
            ],
            [
             0.7777777777777778,
             "#fb9f3a"
            ],
            [
             0.8888888888888888,
             "#fdca26"
            ],
            [
             1,
             "#f0f921"
            ]
           ]
          },
          "colorway": [
           "#636efa",
           "#EF553B",
           "#00cc96",
           "#ab63fa",
           "#FFA15A",
           "#19d3f3",
           "#FF6692",
           "#B6E880",
           "#FF97FF",
           "#FECB52"
          ],
          "font": {
           "color": "#2a3f5f"
          },
          "geo": {
           "bgcolor": "white",
           "lakecolor": "white",
           "landcolor": "#E5ECF6",
           "showlakes": true,
           "showland": true,
           "subunitcolor": "white"
          },
          "hoverlabel": {
           "align": "left"
          },
          "hovermode": "closest",
          "mapbox": {
           "style": "light"
          },
          "paper_bgcolor": "white",
          "plot_bgcolor": "#E5ECF6",
          "polar": {
           "angularaxis": {
            "gridcolor": "white",
            "linecolor": "white",
            "ticks": ""
           },
           "bgcolor": "#E5ECF6",
           "radialaxis": {
            "gridcolor": "white",
            "linecolor": "white",
            "ticks": ""
           }
          },
          "scene": {
           "xaxis": {
            "backgroundcolor": "#E5ECF6",
            "gridcolor": "white",
            "gridwidth": 2,
            "linecolor": "white",
            "showbackground": true,
            "ticks": "",
            "zerolinecolor": "white"
           },
           "yaxis": {
            "backgroundcolor": "#E5ECF6",
            "gridcolor": "white",
            "gridwidth": 2,
            "linecolor": "white",
            "showbackground": true,
            "ticks": "",
            "zerolinecolor": "white"
           },
           "zaxis": {
            "backgroundcolor": "#E5ECF6",
            "gridcolor": "white",
            "gridwidth": 2,
            "linecolor": "white",
            "showbackground": true,
            "ticks": "",
            "zerolinecolor": "white"
           }
          },
          "shapedefaults": {
           "line": {
            "color": "#2a3f5f"
           }
          },
          "ternary": {
           "aaxis": {
            "gridcolor": "white",
            "linecolor": "white",
            "ticks": ""
           },
           "baxis": {
            "gridcolor": "white",
            "linecolor": "white",
            "ticks": ""
           },
           "bgcolor": "#E5ECF6",
           "caxis": {
            "gridcolor": "white",
            "linecolor": "white",
            "ticks": ""
           }
          },
          "title": {
           "x": 0.05
          },
          "xaxis": {
           "automargin": true,
           "gridcolor": "white",
           "linecolor": "white",
           "ticks": "",
           "title": {
            "standoff": 15
           },
           "zerolinecolor": "white",
           "zerolinewidth": 2
          },
          "yaxis": {
           "automargin": true,
           "gridcolor": "white",
           "linecolor": "white",
           "ticks": "",
           "title": {
            "standoff": 15
           },
           "zerolinecolor": "white",
           "zerolinewidth": 2
          }
         }
        },
        "title": {
         "text": "Item Frequencies"
        },
        "xaxis": {
         "anchor": "y",
         "domain": [
          0,
          1
         ],
         "tickangle": -45,
         "title": {
          "text": "Items"
         }
        },
        "yaxis": {
         "anchor": "x",
         "domain": [
          0,
          1
         ],
         "title": {
          "text": "Frequency"
         }
        }
       }
      }
     },
     "metadata": {},
     "output_type": "display_data"
    }
   ],
   "source": [
    "# Create a bar plot of the top 10 only\n",
    "fig = px.bar(x=item_freq.index[:10], y=item_freq.values[:10], labels={'x': 'Items', 'y': 'Frequency'}, title='Item Frequencies')\n",
    "fig.update_xaxes(tickangle=-45)\n",
    "fig.show()"
   ]
  },
  {
   "cell_type": "code",
   "execution_count": 9,
   "metadata": {},
   "outputs": [
    {
     "name": "stdout",
     "output_type": "stream",
     "text": [
      "Processing 2756 combinations | Sampling itemset size 2\n",
      "      support                            itemsets  length\n",
      "53   0.028800                     (eggs, burgers)       2\n",
      "54   0.022000             (french fries, burgers)       2\n",
      "55   0.024400            (mineral water, burgers)       2\n",
      "56   0.021467                (spaghetti, burgers)       2\n",
      "57   0.027467               (cake, mineral water)       2\n",
      "58   0.022800            (chicken, mineral water)       2\n",
      "59   0.033200                   (eggs, chocolate)       2\n",
      "60   0.034400           (french fries, chocolate)       2\n",
      "61   0.022933      (frozen vegetables, chocolate)       2\n",
      "62   0.023467              (chocolate, green tea)       2\n",
      "63   0.023067            (chocolate, ground beef)       2\n",
      "64   0.032133                   (chocolate, milk)       2\n",
      "65   0.052667          (chocolate, mineral water)       2\n",
      "66   0.039200              (spaghetti, chocolate)       2\n",
      "67   0.020133        (cooking oil, mineral water)       2\n",
      "68   0.036400                (eggs, french fries)       2\n",
      "69   0.021733           (frozen vegetables, eggs)       2\n",
      "70   0.025467                   (eggs, green tea)       2\n",
      "71   0.020000                 (eggs, ground beef)       2\n",
      "72   0.030800                        (eggs, milk)       2\n",
      "73   0.050933               (eggs, mineral water)       2\n",
      "74   0.021733                    (pancakes, eggs)       2\n",
      "75   0.036533                   (eggs, spaghetti)       2\n",
      "76   0.028533           (french fries, green tea)       2\n",
      "77   0.023733                (french fries, milk)       2\n",
      "78   0.033733       (french fries, mineral water)       2\n",
      "79   0.020133            (pancakes, french fries)       2\n",
      "80   0.027600           (french fries, spaghetti)       2\n",
      "81   0.020133    (frozen smoothie, mineral water)       2\n",
      "82   0.023600           (frozen vegetables, milk)       2\n",
      "83   0.035733  (frozen vegetables, mineral water)       2\n",
      "84   0.027867      (frozen vegetables, spaghetti)       2\n",
      "85   0.030933          (green tea, mineral water)       2\n",
      "86   0.026533              (spaghetti, green tea)       2\n",
      "87   0.022000                 (ground beef, milk)       2\n",
      "88   0.040933        (ground beef, mineral water)       2\n",
      "89   0.039200            (spaghetti, ground beef)       2\n",
      "90   0.023867     (low fat yogurt, mineral water)       2\n",
      "91   0.048000               (milk, mineral water)       2\n",
      "92   0.035467                   (spaghetti, milk)       2\n",
      "93   0.027467          (olive oil, mineral water)       2\n",
      "94   0.033733           (pancakes, mineral water)       2\n",
      "95   0.023467             (shrimp, mineral water)       2\n",
      "96   0.023067               (soup, mineral water)       2\n",
      "97   0.059733          (spaghetti, mineral water)       2\n",
      "98   0.024400           (tomatoes, mineral water)       2\n",
      "99   0.020133   (whole wheat rice, mineral water)       2\n",
      "100  0.022933              (olive oil, spaghetti)       2\n",
      "101  0.025200               (pancakes, spaghetti)       2\n",
      "102  0.021200                 (spaghetti, shrimp)       2\n",
      "103  0.020933               (tomatoes, spaghetti)       2\n"
     ]
    }
   ],
   "source": [
    "from mlxtend.frequent_patterns import apriori\n",
    "market_basket_frequent_items = apriori(DataMartek_encoded, min_support=0.02, use_colnames = True, verbose = 1, max_len=2)\n",
    "market_basket_frequent_items['length'] = market_basket_frequent_items['itemsets'].apply(lambda x: len(x))\n",
    "print(market_basket_frequent_items[market_basket_frequent_items.length==2])"
   ]
  },
  {
   "cell_type": "code",
   "execution_count": 10,
   "metadata": {},
   "outputs": [
    {
     "data": {
      "application/vnd.microsoft.datawrangler.viewer.v0+json": {
       "columns": [
        {
         "name": "index",
         "rawType": "int64",
         "type": "integer"
        },
        {
         "name": "antecedents",
         "rawType": "object",
         "type": "unknown"
        },
        {
         "name": "consequents",
         "rawType": "object",
         "type": "unknown"
        },
        {
         "name": "antecedent support",
         "rawType": "float64",
         "type": "float"
        },
        {
         "name": "consequent support",
         "rawType": "float64",
         "type": "float"
        },
        {
         "name": "support",
         "rawType": "float64",
         "type": "float"
        },
        {
         "name": "confidence",
         "rawType": "float64",
         "type": "float"
        },
        {
         "name": "lift",
         "rawType": "float64",
         "type": "float"
        },
        {
         "name": "representativity",
         "rawType": "float64",
         "type": "float"
        },
        {
         "name": "leverage",
         "rawType": "float64",
         "type": "float"
        },
        {
         "name": "conviction",
         "rawType": "float64",
         "type": "float"
        },
        {
         "name": "zhangs_metric",
         "rawType": "float64",
         "type": "float"
        },
        {
         "name": "jaccard",
         "rawType": "float64",
         "type": "float"
        },
        {
         "name": "certainty",
         "rawType": "float64",
         "type": "float"
        },
        {
         "name": "kulczynski",
         "rawType": "float64",
         "type": "float"
        }
       ],
       "conversionMethod": "pd.DataFrame",
       "ref": "3e6f6e2f-a845-4901-8608-958c375905a6",
       "rows": [
        [
         "18",
         "frozenset({'spaghetti'})",
         "frozenset({'ground beef'})",
         "0.17413333333333333",
         "0.09826666666666667",
         "0.0392",
         "0.225114854517611",
         "2.2908567284695827",
         "1.0",
         "0.022088497777777775",
         "1.1636993412384715",
         "0.6822918382722801",
         "0.16809605488850773",
         "0.14067150804111825",
         "0.3120146864175572"
        ],
        [
         "28",
         "frozenset({'olive oil'})",
         "frozenset({'spaghetti'})",
         "0.06573333333333334",
         "0.17413333333333333",
         "0.022933333333333333",
         "0.3488843813387424",
         "2.0035473660341254",
         "1.0",
         "0.011486968888888888",
         "1.2683871235721702",
         "0.5361266640336407",
         "0.1057160417947142",
         "0.21159716823386632",
         "0.24029211409969278"
        ],
        [
         "26",
         "frozenset({'soup'})",
         "frozenset({'mineral water'})",
         "0.05053333333333333",
         "0.23826666666666665",
         "0.023066666666666666",
         "0.45646437994722955",
         "1.9157710406291113",
         "1.0",
         "0.011026257777777777",
         "1.40144142394822",
         "0.5034583861297651",
         "0.0868038133467135",
         "0.28644894969442003",
         "0.27663733826684367"
        ],
        [
         "8",
         "frozenset({'frozen vegetables'})",
         "frozenset({'milk'})",
         "0.09533333333333334",
         "0.1296",
         "0.0236",
         "0.24755244755244754",
         "1.91012691012691",
         "1.0",
         "0.0112448",
         "1.1567583643122676",
         "0.5266852353771405",
         "0.11721854304635763",
         "0.1355152200740436",
         "0.21482560649227317"
        ],
        [
         "0",
         "frozenset({'eggs'})",
         "frozenset({'burgers'})",
         "0.17973333333333333",
         "0.0872",
         "0.0288",
         "0.16023738872403562",
         "1.8375847330738029",
         "1.0",
         "0.013127253333333332",
         "1.086973851590106",
         "0.5556819823724894",
         "0.1209406494960806",
         "0.08001466775201097",
         "0.2452563090409169"
        ],
        [
         "34",
         "frozenset({'tomatoes'})",
         "frozenset({'spaghetti'})",
         "0.0684",
         "0.17413333333333333",
         "0.020933333333333335",
         "0.30604288499025345",
         "1.757520396192114",
         "1.0",
         "0.009022613333333335",
         "1.1900831460674157",
         "0.4626626883958289",
         "0.09446450060168472",
         "0.15972257627169856",
         "0.213128640044897"
        ],
        [
         "24",
         "frozenset({'olive oil'})",
         "frozenset({'mineral water'})",
         "0.06573333333333334",
         "0.23826666666666665",
         "0.027466666666666667",
         "0.41784989858012167",
         "1.7537069050648644",
         "1.0",
         "0.011804604444444443",
         "1.3084826945412311",
         "0.46001779080835936",
         "0.09932497589199615",
         "0.23575603699473352",
         "0.2665634495698594"
        ],
        [
         "16",
         "frozenset({'ground beef'})",
         "frozenset({'mineral water'})",
         "0.09826666666666667",
         "0.23826666666666665",
         "0.040933333333333335",
         "0.41655359565807326",
         "1.7482663499919135",
         "1.0",
         "0.017519662222222225",
         "1.305575503875969",
         "0.47464672935367336",
         "0.13847541723049164",
         "0.23405425650893566",
         "0.29417495115863934"
        ],
        [
         "14",
         "frozenset({'ground beef'})",
         "frozenset({'milk'})",
         "0.09826666666666667",
         "0.1296",
         "0.022",
         "0.22388059701492535",
         "1.7274737423991156",
         "1.0",
         "0.00926464",
         "1.121476923076923",
         "0.46701168120656517",
         "0.10686528497409326",
         "0.10831870061457416",
         "0.1968168417173392"
        ],
        [
         "32",
         "frozenset({'spaghetti'})",
         "frozenset({'shrimp'})",
         "0.17413333333333333",
         "0.07133333333333333",
         "0.0212",
         "0.1217457886676876",
         "1.706716663565714",
         "1.0",
         "0.008778488888888889",
         "1.057400755594304",
         "0.501388034271348",
         "0.09453032104637336",
         "0.05428476884532046",
         "0.2094710251749653"
        ],
        [
         "12",
         "frozenset({'frozen vegetables'})",
         "frozenset({'spaghetti'})",
         "0.09533333333333334",
         "0.17413333333333333",
         "0.027866666666666668",
         "0.2923076923076923",
         "1.6786429496996114",
         "1.0",
         "0.011265955555555554",
         "1.1669855072463768",
         "0.4468836054764767",
         "0.1153421633554084",
         "0.1430913290777676",
         "0.22616916008952764"
        ],
        [
         "6",
         "frozenset({'cooking oil'})",
         "frozenset({'mineral water'})",
         "0.05106666666666667",
         "0.23826666666666665",
         "0.020133333333333333",
         "0.3942558746736292",
         "1.6546833016520532",
         "1.0",
         "0.007965848888888889",
         "1.2575166666666666",
         "0.41694683097182667",
         "0.07478949975235265",
         "0.20478191143921218",
         "0.23937751763899703"
        ],
        [
         "2",
         "frozenset({'chicken'})",
         "frozenset({'mineral water'})",
         "0.06",
         "0.23826666666666665",
         "0.0228",
         "0.38",
         "1.594851706771125",
         "1.0",
         "0.008504000000000003",
         "1.2286021505376346",
         "0.3967898469578202",
         "0.08276863504356244",
         "0.18606686504463504",
         "0.23784555120313375"
        ],
        [
         "10",
         "frozenset({'frozen vegetables'})",
         "frozenset({'mineral water'})",
         "0.09533333333333334",
         "0.23826666666666665",
         "0.03573333333333333",
         "0.3748251748251748",
         "1.5731330784492508",
         "1.0",
         "0.013018577777777776",
         "1.2184325130499627",
         "0.40271835369944675",
         "0.1199641897940913",
         "0.17927337846819727",
         "0.262398597485335"
        ],
        [
         "22",
         "frozenset({'spaghetti'})",
         "frozenset({'milk'})",
         "0.17413333333333333",
         "0.1296",
         "0.03546666666666667",
         "0.20367534456355282",
         "1.5715690166940806",
         "1.0",
         "0.012898986666666667",
         "1.0930215384615385",
         "0.4403776635647887",
         "0.13220675944333996",
         "0.08510494550040536",
         "0.23866894800194105"
        ],
        [
         "20",
         "frozenset({'milk'})",
         "frozenset({'mineral water'})",
         "0.1296",
         "0.23826666666666665",
         "0.048",
         "0.3703703703703704",
         "1.5544363613753656",
         "1.0",
         "0.017120640000000003",
         "1.2098117647058826",
         "0.4097886029411765",
         "0.15006252605252188",
         "0.17342513176575847",
         "0.28591266140230887"
        ],
        [
         "30",
         "frozenset({'pancakes'})",
         "frozenset({'spaghetti'})",
         "0.09506666666666666",
         "0.17413333333333333",
         "0.0252",
         "0.2650771388499299",
         "1.5222653456159834",
         "1.0",
         "0.008645724444444447",
         "1.1237460559796437",
         "0.37912660603098214",
         "0.10327868852459017",
         "0.11011923496520411",
         "0.20489691551991135"
        ],
        [
         "4",
         "frozenset({'chocolate'})",
         "frozenset({'milk'})",
         "0.16386666666666666",
         "0.1296",
         "0.03213333333333333",
         "0.19609438567941417",
         "1.5130739635757267",
         "1.0",
         "0.010896213333333335",
         "1.0827141700404859",
         "0.4055498835117326",
         "0.1229591836734694",
         "0.07639520413535636",
         "0.22201838625534495"
        ]
       ],
       "shape": {
        "columns": 14,
        "rows": 18
       }
      },
      "text/html": [
       "<div>\n",
       "<style scoped>\n",
       "    .dataframe tbody tr th:only-of-type {\n",
       "        vertical-align: middle;\n",
       "    }\n",
       "\n",
       "    .dataframe tbody tr th {\n",
       "        vertical-align: top;\n",
       "    }\n",
       "\n",
       "    .dataframe thead th {\n",
       "        text-align: right;\n",
       "    }\n",
       "</style>\n",
       "<table border=\"1\" class=\"dataframe\">\n",
       "  <thead>\n",
       "    <tr style=\"text-align: right;\">\n",
       "      <th></th>\n",
       "      <th>antecedents</th>\n",
       "      <th>consequents</th>\n",
       "      <th>antecedent support</th>\n",
       "      <th>consequent support</th>\n",
       "      <th>support</th>\n",
       "      <th>confidence</th>\n",
       "      <th>lift</th>\n",
       "      <th>representativity</th>\n",
       "      <th>leverage</th>\n",
       "      <th>conviction</th>\n",
       "      <th>zhangs_metric</th>\n",
       "      <th>jaccard</th>\n",
       "      <th>certainty</th>\n",
       "      <th>kulczynski</th>\n",
       "    </tr>\n",
       "  </thead>\n",
       "  <tbody>\n",
       "    <tr>\n",
       "      <th>18</th>\n",
       "      <td>(spaghetti)</td>\n",
       "      <td>(ground beef)</td>\n",
       "      <td>0.174133</td>\n",
       "      <td>0.098267</td>\n",
       "      <td>0.039200</td>\n",
       "      <td>0.225115</td>\n",
       "      <td>2.290857</td>\n",
       "      <td>1.0</td>\n",
       "      <td>0.022088</td>\n",
       "      <td>1.163699</td>\n",
       "      <td>0.682292</td>\n",
       "      <td>0.168096</td>\n",
       "      <td>0.140672</td>\n",
       "      <td>0.312015</td>\n",
       "    </tr>\n",
       "    <tr>\n",
       "      <th>28</th>\n",
       "      <td>(olive oil)</td>\n",
       "      <td>(spaghetti)</td>\n",
       "      <td>0.065733</td>\n",
       "      <td>0.174133</td>\n",
       "      <td>0.022933</td>\n",
       "      <td>0.348884</td>\n",
       "      <td>2.003547</td>\n",
       "      <td>1.0</td>\n",
       "      <td>0.011487</td>\n",
       "      <td>1.268387</td>\n",
       "      <td>0.536127</td>\n",
       "      <td>0.105716</td>\n",
       "      <td>0.211597</td>\n",
       "      <td>0.240292</td>\n",
       "    </tr>\n",
       "    <tr>\n",
       "      <th>26</th>\n",
       "      <td>(soup)</td>\n",
       "      <td>(mineral water)</td>\n",
       "      <td>0.050533</td>\n",
       "      <td>0.238267</td>\n",
       "      <td>0.023067</td>\n",
       "      <td>0.456464</td>\n",
       "      <td>1.915771</td>\n",
       "      <td>1.0</td>\n",
       "      <td>0.011026</td>\n",
       "      <td>1.401441</td>\n",
       "      <td>0.503458</td>\n",
       "      <td>0.086804</td>\n",
       "      <td>0.286449</td>\n",
       "      <td>0.276637</td>\n",
       "    </tr>\n",
       "    <tr>\n",
       "      <th>8</th>\n",
       "      <td>(frozen vegetables)</td>\n",
       "      <td>(milk)</td>\n",
       "      <td>0.095333</td>\n",
       "      <td>0.129600</td>\n",
       "      <td>0.023600</td>\n",
       "      <td>0.247552</td>\n",
       "      <td>1.910127</td>\n",
       "      <td>1.0</td>\n",
       "      <td>0.011245</td>\n",
       "      <td>1.156758</td>\n",
       "      <td>0.526685</td>\n",
       "      <td>0.117219</td>\n",
       "      <td>0.135515</td>\n",
       "      <td>0.214826</td>\n",
       "    </tr>\n",
       "    <tr>\n",
       "      <th>0</th>\n",
       "      <td>(eggs)</td>\n",
       "      <td>(burgers)</td>\n",
       "      <td>0.179733</td>\n",
       "      <td>0.087200</td>\n",
       "      <td>0.028800</td>\n",
       "      <td>0.160237</td>\n",
       "      <td>1.837585</td>\n",
       "      <td>1.0</td>\n",
       "      <td>0.013127</td>\n",
       "      <td>1.086974</td>\n",
       "      <td>0.555682</td>\n",
       "      <td>0.120941</td>\n",
       "      <td>0.080015</td>\n",
       "      <td>0.245256</td>\n",
       "    </tr>\n",
       "    <tr>\n",
       "      <th>34</th>\n",
       "      <td>(tomatoes)</td>\n",
       "      <td>(spaghetti)</td>\n",
       "      <td>0.068400</td>\n",
       "      <td>0.174133</td>\n",
       "      <td>0.020933</td>\n",
       "      <td>0.306043</td>\n",
       "      <td>1.757520</td>\n",
       "      <td>1.0</td>\n",
       "      <td>0.009023</td>\n",
       "      <td>1.190083</td>\n",
       "      <td>0.462663</td>\n",
       "      <td>0.094465</td>\n",
       "      <td>0.159723</td>\n",
       "      <td>0.213129</td>\n",
       "    </tr>\n",
       "    <tr>\n",
       "      <th>24</th>\n",
       "      <td>(olive oil)</td>\n",
       "      <td>(mineral water)</td>\n",
       "      <td>0.065733</td>\n",
       "      <td>0.238267</td>\n",
       "      <td>0.027467</td>\n",
       "      <td>0.417850</td>\n",
       "      <td>1.753707</td>\n",
       "      <td>1.0</td>\n",
       "      <td>0.011805</td>\n",
       "      <td>1.308483</td>\n",
       "      <td>0.460018</td>\n",
       "      <td>0.099325</td>\n",
       "      <td>0.235756</td>\n",
       "      <td>0.266563</td>\n",
       "    </tr>\n",
       "    <tr>\n",
       "      <th>16</th>\n",
       "      <td>(ground beef)</td>\n",
       "      <td>(mineral water)</td>\n",
       "      <td>0.098267</td>\n",
       "      <td>0.238267</td>\n",
       "      <td>0.040933</td>\n",
       "      <td>0.416554</td>\n",
       "      <td>1.748266</td>\n",
       "      <td>1.0</td>\n",
       "      <td>0.017520</td>\n",
       "      <td>1.305576</td>\n",
       "      <td>0.474647</td>\n",
       "      <td>0.138475</td>\n",
       "      <td>0.234054</td>\n",
       "      <td>0.294175</td>\n",
       "    </tr>\n",
       "    <tr>\n",
       "      <th>14</th>\n",
       "      <td>(ground beef)</td>\n",
       "      <td>(milk)</td>\n",
       "      <td>0.098267</td>\n",
       "      <td>0.129600</td>\n",
       "      <td>0.022000</td>\n",
       "      <td>0.223881</td>\n",
       "      <td>1.727474</td>\n",
       "      <td>1.0</td>\n",
       "      <td>0.009265</td>\n",
       "      <td>1.121477</td>\n",
       "      <td>0.467012</td>\n",
       "      <td>0.106865</td>\n",
       "      <td>0.108319</td>\n",
       "      <td>0.196817</td>\n",
       "    </tr>\n",
       "    <tr>\n",
       "      <th>32</th>\n",
       "      <td>(spaghetti)</td>\n",
       "      <td>(shrimp)</td>\n",
       "      <td>0.174133</td>\n",
       "      <td>0.071333</td>\n",
       "      <td>0.021200</td>\n",
       "      <td>0.121746</td>\n",
       "      <td>1.706717</td>\n",
       "      <td>1.0</td>\n",
       "      <td>0.008778</td>\n",
       "      <td>1.057401</td>\n",
       "      <td>0.501388</td>\n",
       "      <td>0.094530</td>\n",
       "      <td>0.054285</td>\n",
       "      <td>0.209471</td>\n",
       "    </tr>\n",
       "    <tr>\n",
       "      <th>12</th>\n",
       "      <td>(frozen vegetables)</td>\n",
       "      <td>(spaghetti)</td>\n",
       "      <td>0.095333</td>\n",
       "      <td>0.174133</td>\n",
       "      <td>0.027867</td>\n",
       "      <td>0.292308</td>\n",
       "      <td>1.678643</td>\n",
       "      <td>1.0</td>\n",
       "      <td>0.011266</td>\n",
       "      <td>1.166986</td>\n",
       "      <td>0.446884</td>\n",
       "      <td>0.115342</td>\n",
       "      <td>0.143091</td>\n",
       "      <td>0.226169</td>\n",
       "    </tr>\n",
       "    <tr>\n",
       "      <th>6</th>\n",
       "      <td>(cooking oil)</td>\n",
       "      <td>(mineral water)</td>\n",
       "      <td>0.051067</td>\n",
       "      <td>0.238267</td>\n",
       "      <td>0.020133</td>\n",
       "      <td>0.394256</td>\n",
       "      <td>1.654683</td>\n",
       "      <td>1.0</td>\n",
       "      <td>0.007966</td>\n",
       "      <td>1.257517</td>\n",
       "      <td>0.416947</td>\n",
       "      <td>0.074789</td>\n",
       "      <td>0.204782</td>\n",
       "      <td>0.239378</td>\n",
       "    </tr>\n",
       "    <tr>\n",
       "      <th>2</th>\n",
       "      <td>(chicken)</td>\n",
       "      <td>(mineral water)</td>\n",
       "      <td>0.060000</td>\n",
       "      <td>0.238267</td>\n",
       "      <td>0.022800</td>\n",
       "      <td>0.380000</td>\n",
       "      <td>1.594852</td>\n",
       "      <td>1.0</td>\n",
       "      <td>0.008504</td>\n",
       "      <td>1.228602</td>\n",
       "      <td>0.396790</td>\n",
       "      <td>0.082769</td>\n",
       "      <td>0.186067</td>\n",
       "      <td>0.237846</td>\n",
       "    </tr>\n",
       "    <tr>\n",
       "      <th>10</th>\n",
       "      <td>(frozen vegetables)</td>\n",
       "      <td>(mineral water)</td>\n",
       "      <td>0.095333</td>\n",
       "      <td>0.238267</td>\n",
       "      <td>0.035733</td>\n",
       "      <td>0.374825</td>\n",
       "      <td>1.573133</td>\n",
       "      <td>1.0</td>\n",
       "      <td>0.013019</td>\n",
       "      <td>1.218433</td>\n",
       "      <td>0.402718</td>\n",
       "      <td>0.119964</td>\n",
       "      <td>0.179273</td>\n",
       "      <td>0.262399</td>\n",
       "    </tr>\n",
       "    <tr>\n",
       "      <th>22</th>\n",
       "      <td>(spaghetti)</td>\n",
       "      <td>(milk)</td>\n",
       "      <td>0.174133</td>\n",
       "      <td>0.129600</td>\n",
       "      <td>0.035467</td>\n",
       "      <td>0.203675</td>\n",
       "      <td>1.571569</td>\n",
       "      <td>1.0</td>\n",
       "      <td>0.012899</td>\n",
       "      <td>1.093022</td>\n",
       "      <td>0.440378</td>\n",
       "      <td>0.132207</td>\n",
       "      <td>0.085105</td>\n",
       "      <td>0.238669</td>\n",
       "    </tr>\n",
       "    <tr>\n",
       "      <th>20</th>\n",
       "      <td>(milk)</td>\n",
       "      <td>(mineral water)</td>\n",
       "      <td>0.129600</td>\n",
       "      <td>0.238267</td>\n",
       "      <td>0.048000</td>\n",
       "      <td>0.370370</td>\n",
       "      <td>1.554436</td>\n",
       "      <td>1.0</td>\n",
       "      <td>0.017121</td>\n",
       "      <td>1.209812</td>\n",
       "      <td>0.409789</td>\n",
       "      <td>0.150063</td>\n",
       "      <td>0.173425</td>\n",
       "      <td>0.285913</td>\n",
       "    </tr>\n",
       "    <tr>\n",
       "      <th>30</th>\n",
       "      <td>(pancakes)</td>\n",
       "      <td>(spaghetti)</td>\n",
       "      <td>0.095067</td>\n",
       "      <td>0.174133</td>\n",
       "      <td>0.025200</td>\n",
       "      <td>0.265077</td>\n",
       "      <td>1.522265</td>\n",
       "      <td>1.0</td>\n",
       "      <td>0.008646</td>\n",
       "      <td>1.123746</td>\n",
       "      <td>0.379127</td>\n",
       "      <td>0.103279</td>\n",
       "      <td>0.110119</td>\n",
       "      <td>0.204897</td>\n",
       "    </tr>\n",
       "    <tr>\n",
       "      <th>4</th>\n",
       "      <td>(chocolate)</td>\n",
       "      <td>(milk)</td>\n",
       "      <td>0.163867</td>\n",
       "      <td>0.129600</td>\n",
       "      <td>0.032133</td>\n",
       "      <td>0.196094</td>\n",
       "      <td>1.513074</td>\n",
       "      <td>1.0</td>\n",
       "      <td>0.010896</td>\n",
       "      <td>1.082714</td>\n",
       "      <td>0.405550</td>\n",
       "      <td>0.122959</td>\n",
       "      <td>0.076395</td>\n",
       "      <td>0.222018</td>\n",
       "    </tr>\n",
       "  </tbody>\n",
       "</table>\n",
       "</div>"
      ],
      "text/plain": [
       "            antecedents      consequents  antecedent support  \\\n",
       "18          (spaghetti)    (ground beef)            0.174133   \n",
       "28          (olive oil)      (spaghetti)            0.065733   \n",
       "26               (soup)  (mineral water)            0.050533   \n",
       "8   (frozen vegetables)           (milk)            0.095333   \n",
       "0                (eggs)        (burgers)            0.179733   \n",
       "34           (tomatoes)      (spaghetti)            0.068400   \n",
       "24          (olive oil)  (mineral water)            0.065733   \n",
       "16        (ground beef)  (mineral water)            0.098267   \n",
       "14        (ground beef)           (milk)            0.098267   \n",
       "32          (spaghetti)         (shrimp)            0.174133   \n",
       "12  (frozen vegetables)      (spaghetti)            0.095333   \n",
       "6         (cooking oil)  (mineral water)            0.051067   \n",
       "2             (chicken)  (mineral water)            0.060000   \n",
       "10  (frozen vegetables)  (mineral water)            0.095333   \n",
       "22          (spaghetti)           (milk)            0.174133   \n",
       "20               (milk)  (mineral water)            0.129600   \n",
       "30           (pancakes)      (spaghetti)            0.095067   \n",
       "4           (chocolate)           (milk)            0.163867   \n",
       "\n",
       "    consequent support   support  confidence      lift  representativity  \\\n",
       "18            0.098267  0.039200    0.225115  2.290857               1.0   \n",
       "28            0.174133  0.022933    0.348884  2.003547               1.0   \n",
       "26            0.238267  0.023067    0.456464  1.915771               1.0   \n",
       "8             0.129600  0.023600    0.247552  1.910127               1.0   \n",
       "0             0.087200  0.028800    0.160237  1.837585               1.0   \n",
       "34            0.174133  0.020933    0.306043  1.757520               1.0   \n",
       "24            0.238267  0.027467    0.417850  1.753707               1.0   \n",
       "16            0.238267  0.040933    0.416554  1.748266               1.0   \n",
       "14            0.129600  0.022000    0.223881  1.727474               1.0   \n",
       "32            0.071333  0.021200    0.121746  1.706717               1.0   \n",
       "12            0.174133  0.027867    0.292308  1.678643               1.0   \n",
       "6             0.238267  0.020133    0.394256  1.654683               1.0   \n",
       "2             0.238267  0.022800    0.380000  1.594852               1.0   \n",
       "10            0.238267  0.035733    0.374825  1.573133               1.0   \n",
       "22            0.129600  0.035467    0.203675  1.571569               1.0   \n",
       "20            0.238267  0.048000    0.370370  1.554436               1.0   \n",
       "30            0.174133  0.025200    0.265077  1.522265               1.0   \n",
       "4             0.129600  0.032133    0.196094  1.513074               1.0   \n",
       "\n",
       "    leverage  conviction  zhangs_metric   jaccard  certainty  kulczynski  \n",
       "18  0.022088    1.163699       0.682292  0.168096   0.140672    0.312015  \n",
       "28  0.011487    1.268387       0.536127  0.105716   0.211597    0.240292  \n",
       "26  0.011026    1.401441       0.503458  0.086804   0.286449    0.276637  \n",
       "8   0.011245    1.156758       0.526685  0.117219   0.135515    0.214826  \n",
       "0   0.013127    1.086974       0.555682  0.120941   0.080015    0.245256  \n",
       "34  0.009023    1.190083       0.462663  0.094465   0.159723    0.213129  \n",
       "24  0.011805    1.308483       0.460018  0.099325   0.235756    0.266563  \n",
       "16  0.017520    1.305576       0.474647  0.138475   0.234054    0.294175  \n",
       "14  0.009265    1.121477       0.467012  0.106865   0.108319    0.196817  \n",
       "32  0.008778    1.057401       0.501388  0.094530   0.054285    0.209471  \n",
       "12  0.011266    1.166986       0.446884  0.115342   0.143091    0.226169  \n",
       "6   0.007966    1.257517       0.416947  0.074789   0.204782    0.239378  \n",
       "2   0.008504    1.228602       0.396790  0.082769   0.186067    0.237846  \n",
       "10  0.013019    1.218433       0.402718  0.119964   0.179273    0.262399  \n",
       "22  0.012899    1.093022       0.440378  0.132207   0.085105    0.238669  \n",
       "20  0.017121    1.209812       0.409789  0.150063   0.173425    0.285913  \n",
       "30  0.008646    1.123746       0.379127  0.103279   0.110119    0.204897  \n",
       "4   0.010896    1.082714       0.405550  0.122959   0.076395    0.222018  "
      ]
     },
     "execution_count": 10,
     "metadata": {},
     "output_type": "execute_result"
    }
   ],
   "source": [
    "from mlxtend.frequent_patterns import association_rules \n",
    "# Show associations with lift more than 1.5 in descending order\n",
    "market_basket_rules = association_rules(market_basket_frequent_items, metric='lift', min_threshold=1.5)\n",
    "market_basket_rules.drop_duplicates(['support'], inplace=True)\n",
    "top_association_rules = market_basket_rules.sort_values(by='lift', ascending=False)\n",
    "top_association_rules"
   ]
  },
  {
   "cell_type": "code",
   "execution_count": 23,
   "metadata": {},
   "outputs": [
    {
     "data": {
      "application/vnd.microsoft.datawrangler.viewer.v0+json": {
       "columns": [
        {
         "name": "index",
         "rawType": "int64",
         "type": "integer"
        },
        {
         "name": "support",
         "rawType": "float64",
         "type": "float"
        },
        {
         "name": "itemsets",
         "rawType": "object",
         "type": "unknown"
        }
       ],
       "conversionMethod": "pd.DataFrame",
       "ref": "f8667905-d695-47ae-a288-a82461fdbfe0",
       "rows": [
        [
         "0",
         "0.0016",
         "frozenset({0})"
        ],
        [
         "1",
         "0.002",
         "frozenset({1})"
        ],
        [
         "2",
         "0.0016",
         "frozenset({5})"
        ],
        [
         "3",
         "0.0012",
         "frozenset({9})"
        ],
        [
         "4",
         "0.0010666666666666667",
         "frozenset({12})"
        ],
        [
         "5",
         "0.0010666666666666667",
         "frozenset({13})"
        ],
        [
         "6",
         "0.0013333333333333333",
         "frozenset({14})"
        ],
        [
         "7",
         "0.0014666666666666667",
         "frozenset({15})"
        ],
        [
         "8",
         "0.0010666666666666667",
         "frozenset({17})"
        ],
        [
         "9",
         "0.0013333333333333333",
         "frozenset({18})"
        ],
        [
         "10",
         "0.0012",
         "frozenset({19})"
        ],
        [
         "11",
         "0.0012",
         "frozenset({0, 1})"
        ],
        [
         "12",
         "0.0014666666666666667",
         "frozenset({0, 5})"
        ],
        [
         "13",
         "0.0012",
         "frozenset({0, 19})"
        ],
        [
         "14",
         "0.0010666666666666667",
         "frozenset({1, 5})"
        ],
        [
         "15",
         "0.0010666666666666667",
         "frozenset({1, 15})"
        ],
        [
         "16",
         "0.0010666666666666667",
         "frozenset({1, 18})"
        ],
        [
         "17",
         "0.0010666666666666667",
         "frozenset({1, 19})"
        ],
        [
         "18",
         "0.0010666666666666667",
         "frozenset({19, 5})"
        ],
        [
         "19",
         "0.0010666666666666667",
         "frozenset({0, 1, 5})"
        ],
        [
         "20",
         "0.0010666666666666667",
         "frozenset({0, 1, 19})"
        ],
        [
         "21",
         "0.0010666666666666667",
         "frozenset({0, 19, 5})"
        ]
       ],
       "shape": {
        "columns": 2,
        "rows": 22
       }
      },
      "text/html": [
       "<div>\n",
       "<style scoped>\n",
       "    .dataframe tbody tr th:only-of-type {\n",
       "        vertical-align: middle;\n",
       "    }\n",
       "\n",
       "    .dataframe tbody tr th {\n",
       "        vertical-align: top;\n",
       "    }\n",
       "\n",
       "    .dataframe thead th {\n",
       "        text-align: right;\n",
       "    }\n",
       "</style>\n",
       "<table border=\"1\" class=\"dataframe\">\n",
       "  <thead>\n",
       "    <tr style=\"text-align: right;\">\n",
       "      <th></th>\n",
       "      <th>support</th>\n",
       "      <th>itemsets</th>\n",
       "    </tr>\n",
       "  </thead>\n",
       "  <tbody>\n",
       "    <tr>\n",
       "      <th>0</th>\n",
       "      <td>0.001600</td>\n",
       "      <td>(0)</td>\n",
       "    </tr>\n",
       "    <tr>\n",
       "      <th>1</th>\n",
       "      <td>0.002000</td>\n",
       "      <td>(1)</td>\n",
       "    </tr>\n",
       "    <tr>\n",
       "      <th>2</th>\n",
       "      <td>0.001600</td>\n",
       "      <td>(5)</td>\n",
       "    </tr>\n",
       "    <tr>\n",
       "      <th>3</th>\n",
       "      <td>0.001200</td>\n",
       "      <td>(9)</td>\n",
       "    </tr>\n",
       "    <tr>\n",
       "      <th>4</th>\n",
       "      <td>0.001067</td>\n",
       "      <td>(12)</td>\n",
       "    </tr>\n",
       "    <tr>\n",
       "      <th>5</th>\n",
       "      <td>0.001067</td>\n",
       "      <td>(13)</td>\n",
       "    </tr>\n",
       "    <tr>\n",
       "      <th>6</th>\n",
       "      <td>0.001333</td>\n",
       "      <td>(14)</td>\n",
       "    </tr>\n",
       "    <tr>\n",
       "      <th>7</th>\n",
       "      <td>0.001467</td>\n",
       "      <td>(15)</td>\n",
       "    </tr>\n",
       "    <tr>\n",
       "      <th>8</th>\n",
       "      <td>0.001067</td>\n",
       "      <td>(17)</td>\n",
       "    </tr>\n",
       "    <tr>\n",
       "      <th>9</th>\n",
       "      <td>0.001333</td>\n",
       "      <td>(18)</td>\n",
       "    </tr>\n",
       "    <tr>\n",
       "      <th>10</th>\n",
       "      <td>0.001200</td>\n",
       "      <td>(19)</td>\n",
       "    </tr>\n",
       "    <tr>\n",
       "      <th>11</th>\n",
       "      <td>0.001200</td>\n",
       "      <td>(0, 1)</td>\n",
       "    </tr>\n",
       "    <tr>\n",
       "      <th>12</th>\n",
       "      <td>0.001467</td>\n",
       "      <td>(0, 5)</td>\n",
       "    </tr>\n",
       "    <tr>\n",
       "      <th>13</th>\n",
       "      <td>0.001200</td>\n",
       "      <td>(0, 19)</td>\n",
       "    </tr>\n",
       "    <tr>\n",
       "      <th>14</th>\n",
       "      <td>0.001067</td>\n",
       "      <td>(1, 5)</td>\n",
       "    </tr>\n",
       "    <tr>\n",
       "      <th>15</th>\n",
       "      <td>0.001067</td>\n",
       "      <td>(1, 15)</td>\n",
       "    </tr>\n",
       "    <tr>\n",
       "      <th>16</th>\n",
       "      <td>0.001067</td>\n",
       "      <td>(1, 18)</td>\n",
       "    </tr>\n",
       "    <tr>\n",
       "      <th>17</th>\n",
       "      <td>0.001067</td>\n",
       "      <td>(1, 19)</td>\n",
       "    </tr>\n",
       "    <tr>\n",
       "      <th>18</th>\n",
       "      <td>0.001067</td>\n",
       "      <td>(19, 5)</td>\n",
       "    </tr>\n",
       "    <tr>\n",
       "      <th>19</th>\n",
       "      <td>0.001067</td>\n",
       "      <td>(0, 1, 5)</td>\n",
       "    </tr>\n",
       "    <tr>\n",
       "      <th>20</th>\n",
       "      <td>0.001067</td>\n",
       "      <td>(0, 1, 19)</td>\n",
       "    </tr>\n",
       "    <tr>\n",
       "      <th>21</th>\n",
       "      <td>0.001067</td>\n",
       "      <td>(0, 19, 5)</td>\n",
       "    </tr>\n",
       "  </tbody>\n",
       "</table>\n",
       "</div>"
      ],
      "text/plain": [
       "     support    itemsets\n",
       "0   0.001600         (0)\n",
       "1   0.002000         (1)\n",
       "2   0.001600         (5)\n",
       "3   0.001200         (9)\n",
       "4   0.001067        (12)\n",
       "5   0.001067        (13)\n",
       "6   0.001333        (14)\n",
       "7   0.001467        (15)\n",
       "8   0.001067        (17)\n",
       "9   0.001333        (18)\n",
       "10  0.001200        (19)\n",
       "11  0.001200      (0, 1)\n",
       "12  0.001467      (0, 5)\n",
       "13  0.001200     (0, 19)\n",
       "14  0.001067      (1, 5)\n",
       "15  0.001067     (1, 15)\n",
       "16  0.001067     (1, 18)\n",
       "17  0.001067     (1, 19)\n",
       "18  0.001067     (19, 5)\n",
       "19  0.001067   (0, 1, 5)\n",
       "20  0.001067  (0, 1, 19)\n",
       "21  0.001067  (0, 19, 5)"
      ]
     },
     "execution_count": 23,
     "metadata": {},
     "output_type": "execute_result"
    }
   ],
   "source": [
    "from mlxtend.frequent_patterns import apriori\n",
    "apriori(DataFrame, min_support=0.001)\n"
   ]
  },
  {
   "cell_type": "code",
   "execution_count": 11,
   "metadata": {},
   "outputs": [
    {
     "name": "stderr",
     "output_type": "stream",
     "text": [
      "/Users/booba/miniconda3/envs/mon_env/lib/python3.9/site-packages/_plotly_utils/basevalidators.py:2596: DeprecationWarning:\n",
      "\n",
      "*scattermapbox* is deprecated! Use *scattermap* instead. Learn more at: https://plotly.com/python/mapbox-to-maplibre/\n",
      "\n"
     ]
    },
    {
     "data": {
      "application/vnd.plotly.v1+json": {
       "config": {
        "plotlyServerURL": "https://plot.ly"
       },
       "data": [
        {
         "hovertemplate": "items=%{x}<br>lift=%{y}<extra></extra>",
         "legendgroup": "",
         "marker": {
          "color": "#636efa",
          "pattern": {
           "shape": ""
          }
         },
         "name": "",
         "orientation": "v",
         "showlegend": false,
         "textposition": "auto",
         "type": "bar",
         "x": [
          "spaghetti -> ground beef",
          "olive oil -> spaghetti",
          "soup -> mineral water",
          "frozen vegetables -> milk",
          "eggs -> burgers",
          "tomatoes -> spaghetti",
          "olive oil -> mineral water",
          "ground beef -> mineral water",
          "ground beef -> milk",
          "spaghetti -> shrimp",
          "frozen vegetables -> spaghetti",
          "cooking oil -> mineral water",
          "chicken -> mineral water",
          "frozen vegetables -> mineral water",
          "spaghetti -> milk",
          "milk -> mineral water",
          "pancakes -> spaghetti",
          "chocolate -> milk"
         ],
         "xaxis": "x",
         "y": {
          "bdata": "i8lEsaxTAkD902jXQwcAQMUD4oj/pv4/FUYjPOGP/j/b5MI/v2b9P2Mr+7TNHvw/FV7A+C4P/D/Xmd4i5vj7P83YxIG7o/s//tjYIbZO+z/Q7qm1uNv6P3FTnTKVefo/BtQoOYOE+T8XIEOXjSv5Py66oY0lJfk/fiB9qfje+D+aEzToMlv4PxrKXwuNNfg/",
          "dtype": "f8"
         },
         "yaxis": "y"
        }
       ],
       "layout": {
        "barmode": "relative",
        "legend": {
         "tracegroupgap": 0
        },
        "template": {
         "data": {
          "bar": [
           {
            "error_x": {
             "color": "#2a3f5f"
            },
            "error_y": {
             "color": "#2a3f5f"
            },
            "marker": {
             "line": {
              "color": "#E5ECF6",
              "width": 0.5
             },
             "pattern": {
              "fillmode": "overlay",
              "size": 10,
              "solidity": 0.2
             }
            },
            "type": "bar"
           }
          ],
          "barpolar": [
           {
            "marker": {
             "line": {
              "color": "#E5ECF6",
              "width": 0.5
             },
             "pattern": {
              "fillmode": "overlay",
              "size": 10,
              "solidity": 0.2
             }
            },
            "type": "barpolar"
           }
          ],
          "carpet": [
           {
            "aaxis": {
             "endlinecolor": "#2a3f5f",
             "gridcolor": "white",
             "linecolor": "white",
             "minorgridcolor": "white",
             "startlinecolor": "#2a3f5f"
            },
            "baxis": {
             "endlinecolor": "#2a3f5f",
             "gridcolor": "white",
             "linecolor": "white",
             "minorgridcolor": "white",
             "startlinecolor": "#2a3f5f"
            },
            "type": "carpet"
           }
          ],
          "choropleth": [
           {
            "colorbar": {
             "outlinewidth": 0,
             "ticks": ""
            },
            "type": "choropleth"
           }
          ],
          "contour": [
           {
            "colorbar": {
             "outlinewidth": 0,
             "ticks": ""
            },
            "colorscale": [
             [
              0,
              "#0d0887"
             ],
             [
              0.1111111111111111,
              "#46039f"
             ],
             [
              0.2222222222222222,
              "#7201a8"
             ],
             [
              0.3333333333333333,
              "#9c179e"
             ],
             [
              0.4444444444444444,
              "#bd3786"
             ],
             [
              0.5555555555555556,
              "#d8576b"
             ],
             [
              0.6666666666666666,
              "#ed7953"
             ],
             [
              0.7777777777777778,
              "#fb9f3a"
             ],
             [
              0.8888888888888888,
              "#fdca26"
             ],
             [
              1,
              "#f0f921"
             ]
            ],
            "type": "contour"
           }
          ],
          "contourcarpet": [
           {
            "colorbar": {
             "outlinewidth": 0,
             "ticks": ""
            },
            "type": "contourcarpet"
           }
          ],
          "heatmap": [
           {
            "colorbar": {
             "outlinewidth": 0,
             "ticks": ""
            },
            "colorscale": [
             [
              0,
              "#0d0887"
             ],
             [
              0.1111111111111111,
              "#46039f"
             ],
             [
              0.2222222222222222,
              "#7201a8"
             ],
             [
              0.3333333333333333,
              "#9c179e"
             ],
             [
              0.4444444444444444,
              "#bd3786"
             ],
             [
              0.5555555555555556,
              "#d8576b"
             ],
             [
              0.6666666666666666,
              "#ed7953"
             ],
             [
              0.7777777777777778,
              "#fb9f3a"
             ],
             [
              0.8888888888888888,
              "#fdca26"
             ],
             [
              1,
              "#f0f921"
             ]
            ],
            "type": "heatmap"
           }
          ],
          "histogram": [
           {
            "marker": {
             "pattern": {
              "fillmode": "overlay",
              "size": 10,
              "solidity": 0.2
             }
            },
            "type": "histogram"
           }
          ],
          "histogram2d": [
           {
            "colorbar": {
             "outlinewidth": 0,
             "ticks": ""
            },
            "colorscale": [
             [
              0,
              "#0d0887"
             ],
             [
              0.1111111111111111,
              "#46039f"
             ],
             [
              0.2222222222222222,
              "#7201a8"
             ],
             [
              0.3333333333333333,
              "#9c179e"
             ],
             [
              0.4444444444444444,
              "#bd3786"
             ],
             [
              0.5555555555555556,
              "#d8576b"
             ],
             [
              0.6666666666666666,
              "#ed7953"
             ],
             [
              0.7777777777777778,
              "#fb9f3a"
             ],
             [
              0.8888888888888888,
              "#fdca26"
             ],
             [
              1,
              "#f0f921"
             ]
            ],
            "type": "histogram2d"
           }
          ],
          "histogram2dcontour": [
           {
            "colorbar": {
             "outlinewidth": 0,
             "ticks": ""
            },
            "colorscale": [
             [
              0,
              "#0d0887"
             ],
             [
              0.1111111111111111,
              "#46039f"
             ],
             [
              0.2222222222222222,
              "#7201a8"
             ],
             [
              0.3333333333333333,
              "#9c179e"
             ],
             [
              0.4444444444444444,
              "#bd3786"
             ],
             [
              0.5555555555555556,
              "#d8576b"
             ],
             [
              0.6666666666666666,
              "#ed7953"
             ],
             [
              0.7777777777777778,
              "#fb9f3a"
             ],
             [
              0.8888888888888888,
              "#fdca26"
             ],
             [
              1,
              "#f0f921"
             ]
            ],
            "type": "histogram2dcontour"
           }
          ],
          "mesh3d": [
           {
            "colorbar": {
             "outlinewidth": 0,
             "ticks": ""
            },
            "type": "mesh3d"
           }
          ],
          "parcoords": [
           {
            "line": {
             "colorbar": {
              "outlinewidth": 0,
              "ticks": ""
             }
            },
            "type": "parcoords"
           }
          ],
          "pie": [
           {
            "automargin": true,
            "type": "pie"
           }
          ],
          "scatter": [
           {
            "fillpattern": {
             "fillmode": "overlay",
             "size": 10,
             "solidity": 0.2
            },
            "type": "scatter"
           }
          ],
          "scatter3d": [
           {
            "line": {
             "colorbar": {
              "outlinewidth": 0,
              "ticks": ""
             }
            },
            "marker": {
             "colorbar": {
              "outlinewidth": 0,
              "ticks": ""
             }
            },
            "type": "scatter3d"
           }
          ],
          "scattercarpet": [
           {
            "marker": {
             "colorbar": {
              "outlinewidth": 0,
              "ticks": ""
             }
            },
            "type": "scattercarpet"
           }
          ],
          "scattergeo": [
           {
            "marker": {
             "colorbar": {
              "outlinewidth": 0,
              "ticks": ""
             }
            },
            "type": "scattergeo"
           }
          ],
          "scattergl": [
           {
            "marker": {
             "colorbar": {
              "outlinewidth": 0,
              "ticks": ""
             }
            },
            "type": "scattergl"
           }
          ],
          "scattermap": [
           {
            "marker": {
             "colorbar": {
              "outlinewidth": 0,
              "ticks": ""
             }
            },
            "type": "scattermap"
           }
          ],
          "scattermapbox": [
           {
            "marker": {
             "colorbar": {
              "outlinewidth": 0,
              "ticks": ""
             }
            },
            "type": "scattermapbox"
           }
          ],
          "scatterpolar": [
           {
            "marker": {
             "colorbar": {
              "outlinewidth": 0,
              "ticks": ""
             }
            },
            "type": "scatterpolar"
           }
          ],
          "scatterpolargl": [
           {
            "marker": {
             "colorbar": {
              "outlinewidth": 0,
              "ticks": ""
             }
            },
            "type": "scatterpolargl"
           }
          ],
          "scatterternary": [
           {
            "marker": {
             "colorbar": {
              "outlinewidth": 0,
              "ticks": ""
             }
            },
            "type": "scatterternary"
           }
          ],
          "surface": [
           {
            "colorbar": {
             "outlinewidth": 0,
             "ticks": ""
            },
            "colorscale": [
             [
              0,
              "#0d0887"
             ],
             [
              0.1111111111111111,
              "#46039f"
             ],
             [
              0.2222222222222222,
              "#7201a8"
             ],
             [
              0.3333333333333333,
              "#9c179e"
             ],
             [
              0.4444444444444444,
              "#bd3786"
             ],
             [
              0.5555555555555556,
              "#d8576b"
             ],
             [
              0.6666666666666666,
              "#ed7953"
             ],
             [
              0.7777777777777778,
              "#fb9f3a"
             ],
             [
              0.8888888888888888,
              "#fdca26"
             ],
             [
              1,
              "#f0f921"
             ]
            ],
            "type": "surface"
           }
          ],
          "table": [
           {
            "cells": {
             "fill": {
              "color": "#EBF0F8"
             },
             "line": {
              "color": "white"
             }
            },
            "header": {
             "fill": {
              "color": "#C8D4E3"
             },
             "line": {
              "color": "white"
             }
            },
            "type": "table"
           }
          ]
         },
         "layout": {
          "annotationdefaults": {
           "arrowcolor": "#2a3f5f",
           "arrowhead": 0,
           "arrowwidth": 1
          },
          "autotypenumbers": "strict",
          "coloraxis": {
           "colorbar": {
            "outlinewidth": 0,
            "ticks": ""
           }
          },
          "colorscale": {
           "diverging": [
            [
             0,
             "#8e0152"
            ],
            [
             0.1,
             "#c51b7d"
            ],
            [
             0.2,
             "#de77ae"
            ],
            [
             0.3,
             "#f1b6da"
            ],
            [
             0.4,
             "#fde0ef"
            ],
            [
             0.5,
             "#f7f7f7"
            ],
            [
             0.6,
             "#e6f5d0"
            ],
            [
             0.7,
             "#b8e186"
            ],
            [
             0.8,
             "#7fbc41"
            ],
            [
             0.9,
             "#4d9221"
            ],
            [
             1,
             "#276419"
            ]
           ],
           "sequential": [
            [
             0,
             "#0d0887"
            ],
            [
             0.1111111111111111,
             "#46039f"
            ],
            [
             0.2222222222222222,
             "#7201a8"
            ],
            [
             0.3333333333333333,
             "#9c179e"
            ],
            [
             0.4444444444444444,
             "#bd3786"
            ],
            [
             0.5555555555555556,
             "#d8576b"
            ],
            [
             0.6666666666666666,
             "#ed7953"
            ],
            [
             0.7777777777777778,
             "#fb9f3a"
            ],
            [
             0.8888888888888888,
             "#fdca26"
            ],
            [
             1,
             "#f0f921"
            ]
           ],
           "sequentialminus": [
            [
             0,
             "#0d0887"
            ],
            [
             0.1111111111111111,
             "#46039f"
            ],
            [
             0.2222222222222222,
             "#7201a8"
            ],
            [
             0.3333333333333333,
             "#9c179e"
            ],
            [
             0.4444444444444444,
             "#bd3786"
            ],
            [
             0.5555555555555556,
             "#d8576b"
            ],
            [
             0.6666666666666666,
             "#ed7953"
            ],
            [
             0.7777777777777778,
             "#fb9f3a"
            ],
            [
             0.8888888888888888,
             "#fdca26"
            ],
            [
             1,
             "#f0f921"
            ]
           ]
          },
          "colorway": [
           "#636efa",
           "#EF553B",
           "#00cc96",
           "#ab63fa",
           "#FFA15A",
           "#19d3f3",
           "#FF6692",
           "#B6E880",
           "#FF97FF",
           "#FECB52"
          ],
          "font": {
           "color": "#2a3f5f"
          },
          "geo": {
           "bgcolor": "white",
           "lakecolor": "white",
           "landcolor": "#E5ECF6",
           "showlakes": true,
           "showland": true,
           "subunitcolor": "white"
          },
          "hoverlabel": {
           "align": "left"
          },
          "hovermode": "closest",
          "mapbox": {
           "style": "light"
          },
          "paper_bgcolor": "white",
          "plot_bgcolor": "#E5ECF6",
          "polar": {
           "angularaxis": {
            "gridcolor": "white",
            "linecolor": "white",
            "ticks": ""
           },
           "bgcolor": "#E5ECF6",
           "radialaxis": {
            "gridcolor": "white",
            "linecolor": "white",
            "ticks": ""
           }
          },
          "scene": {
           "xaxis": {
            "backgroundcolor": "#E5ECF6",
            "gridcolor": "white",
            "gridwidth": 2,
            "linecolor": "white",
            "showbackground": true,
            "ticks": "",
            "zerolinecolor": "white"
           },
           "yaxis": {
            "backgroundcolor": "#E5ECF6",
            "gridcolor": "white",
            "gridwidth": 2,
            "linecolor": "white",
            "showbackground": true,
            "ticks": "",
            "zerolinecolor": "white"
           },
           "zaxis": {
            "backgroundcolor": "#E5ECF6",
            "gridcolor": "white",
            "gridwidth": 2,
            "linecolor": "white",
            "showbackground": true,
            "ticks": "",
            "zerolinecolor": "white"
           }
          },
          "shapedefaults": {
           "line": {
            "color": "#2a3f5f"
           }
          },
          "ternary": {
           "aaxis": {
            "gridcolor": "white",
            "linecolor": "white",
            "ticks": ""
           },
           "baxis": {
            "gridcolor": "white",
            "linecolor": "white",
            "ticks": ""
           },
           "bgcolor": "#E5ECF6",
           "caxis": {
            "gridcolor": "white",
            "linecolor": "white",
            "ticks": ""
           }
          },
          "title": {
           "x": 0.05
          },
          "xaxis": {
           "automargin": true,
           "gridcolor": "white",
           "linecolor": "white",
           "ticks": "",
           "title": {
            "standoff": 15
           },
           "zerolinecolor": "white",
           "zerolinewidth": 2
          },
          "yaxis": {
           "automargin": true,
           "gridcolor": "white",
           "linecolor": "white",
           "ticks": "",
           "title": {
            "standoff": 15
           },
           "zerolinecolor": "white",
           "zerolinewidth": 2
          }
         }
        },
        "title": {
         "text": "Top 18 Most Bought Together Item Combinations"
        },
        "xaxis": {
         "anchor": "y",
         "domain": [
          0,
          1
         ],
         "tickangle": -45,
         "title": {
          "text": "items"
         }
        },
        "yaxis": {
         "anchor": "x",
         "domain": [
          0,
          1
         ],
         "title": {
          "text": "lift"
         }
        }
       }
      }
     },
     "metadata": {},
     "output_type": "display_data"
    }
   ],
   "source": [
    "# Convert frozenset objects to strings for plotting\n",
    "top_association_rules['antecedents_str'] = top_association_rules['antecedents'].apply(lambda x: ', '.join(list(x)))\n",
    "top_association_rules['consequents_str'] = top_association_rules['consequents'].apply(lambda x: ', '.join(list(x)))\n",
    "\n",
    "# Combine antecedents and consequents for plotting\n",
    "top_association_rules['items'] = top_association_rules['antecedents_str'] + ' -> ' + top_association_rules['consequents_str']\n",
    "\n",
    "# Create a bar plot to visualize top association rules\n",
    "fig = px.bar(top_association_rules, x='items', y='lift',\n",
    "             labels={'x': 'Item Combination', 'y': 'Lift'},\n",
    "             title=f'Top {len(top_association_rules)} Most Bought Together Item Combinations')\n",
    "fig.update_xaxes(tickangle=-45)\n",
    "fig.show()"
   ]
  },
  {
   "cell_type": "code",
   "execution_count": 24,
   "metadata": {},
   "outputs": [
    {
     "name": "stdout",
     "output_type": "stream",
     "text": [
      "    support itemsets\n",
      "0  0.001600      ( )\n",
      "1  0.002000      (a)\n",
      "2  0.001600      (e)\n",
      "3  0.001200      (i)\n",
      "4  0.001067      (l)\n"
     ]
    }
   ],
   "source": [
    "# Appliquer apriori et stocker le résultat\n",
    "frequent_itemsets = apriori(DataFrame, min_support=0.001, use_colnames=True)\n",
    "\n",
    "# Vérifier si des itemsets ont été trouvés\n",
    "if frequent_itemsets.empty:\n",
    "    print(\"⚠️ Aucun itemset fréquent trouvé ! Essayez de réduire `min_support`.\")\n",
    "else:\n",
    "    print(frequent_itemsets.head())\n"
   ]
  },
  {
   "cell_type": "code",
   "execution_count": 25,
   "metadata": {},
   "outputs": [
    {
     "data": {
      "application/vnd.microsoft.datawrangler.viewer.v0+json": {
       "columns": [
        {
         "name": "index",
         "rawType": "int64",
         "type": "integer"
        },
        {
         "name": "antecedents",
         "rawType": "object",
         "type": "unknown"
        },
        {
         "name": "consequents",
         "rawType": "object",
         "type": "unknown"
        },
        {
         "name": "antecedent support",
         "rawType": "float64",
         "type": "float"
        },
        {
         "name": "consequent support",
         "rawType": "float64",
         "type": "float"
        },
        {
         "name": "support",
         "rawType": "float64",
         "type": "float"
        },
        {
         "name": "confidence",
         "rawType": "float64",
         "type": "float"
        },
        {
         "name": "lift",
         "rawType": "float64",
         "type": "float"
        },
        {
         "name": "representativity",
         "rawType": "float64",
         "type": "float"
        },
        {
         "name": "leverage",
         "rawType": "float64",
         "type": "float"
        },
        {
         "name": "conviction",
         "rawType": "float64",
         "type": "float"
        },
        {
         "name": "zhangs_metric",
         "rawType": "float64",
         "type": "float"
        },
        {
         "name": "jaccard",
         "rawType": "float64",
         "type": "float"
        },
        {
         "name": "certainty",
         "rawType": "float64",
         "type": "float"
        },
        {
         "name": "kulczynski",
         "rawType": "float64",
         "type": "float"
        }
       ],
       "conversionMethod": "pd.DataFrame",
       "ref": "5173f141-8c03-4817-b078-5ff8b94db154",
       "rows": [
        [
         "0",
         "frozenset({' '})",
         "frozenset({'a'})",
         "0.0016",
         "0.002",
         "0.0012",
         "0.7499999999999999",
         "374.99999999999994",
         "1.0",
         "0.0011967999999999998",
         "3.991999999999998",
         "0.9989316239316239",
         "0.4999999999999999",
         "0.7494989979959918",
         "0.6749999999999999"
        ],
        [
         "1",
         "frozenset({'e'})",
         "frozenset({' '})",
         "0.0016",
         "0.0016",
         "0.0014666666666666667",
         "0.9166666666666666",
         "572.9166666666666",
         "1.0",
         "0.0014641066666666667",
         "11.980799999999995",
         "0.9998543123543124",
         "0.8461538461538461",
         "0.9165331196581196",
         "0.9166666666666666"
        ],
        [
         "2",
         "frozenset({' '})",
         "frozenset({'e'})",
         "0.0016",
         "0.0016",
         "0.0014666666666666667",
         "0.9166666666666666",
         "572.9166666666666",
         "1.0",
         "0.0014641066666666667",
         "11.980799999999995",
         "0.9998543123543124",
         "0.8461538461538461",
         "0.9165331196581196",
         "0.9166666666666666"
        ],
        [
         "3",
         "frozenset({'t'})",
         "frozenset({' '})",
         "0.0012",
         "0.0016",
         "0.0012",
         "1.0",
         "625.0",
         "1.0",
         "0.0011980799999999998",
         "inf",
         "0.9995995194233078",
         "0.7499999999999999",
         "1.0",
         "0.875"
        ],
        [
         "4",
         "frozenset({' '})",
         "frozenset({'t'})",
         "0.0016",
         "0.0012",
         "0.0012",
         "0.7499999999999999",
         "625.0",
         "1.0",
         "0.0011980799999999998",
         "3.9951999999999983",
         "1.0",
         "0.7499999999999999",
         "0.7496996395674809",
         "0.875"
        ],
        [
         "5",
         "frozenset({'o'})",
         "frozenset({'a'})",
         "0.0014666666666666667",
         "0.002",
         "0.0010666666666666667",
         "0.7272727272727273",
         "363.6363636363636",
         "1.0",
         "0.0010637333333333335",
         "3.6593333333333335",
         "0.9987147816797971",
         "0.44444444444444453",
         "0.7267261796319913",
         "0.6303030303030304"
        ],
        [
         "6",
         "frozenset({'s'})",
         "frozenset({'a'})",
         "0.0013333333333333333",
         "0.002",
         "0.0010666666666666667",
         "0.8",
         "400.0",
         "1.0",
         "0.001064",
         "4.990000000000001",
         "0.9988317757009346",
         "0.47058823529411775",
         "0.7995991983967936",
         "0.6666666666666667"
        ],
        [
         "7",
         "frozenset({'t'})",
         "frozenset({'a'})",
         "0.0012",
         "0.002",
         "0.0010666666666666667",
         "0.8888888888888891",
         "444.4444444444445",
         "1.0",
         "0.0010642666666666667",
         "8.982000000000014",
         "0.9989487384861834",
         "0.5000000000000001",
         "0.8886662213315522",
         "0.7111111111111112"
        ],
        [
         "8",
         "frozenset({'t'})",
         "frozenset({'e'})",
         "0.0012",
         "0.0016",
         "0.0010666666666666667",
         "0.8888888888888891",
         "555.5555555555557",
         "1.0",
         "0.0010647466666666666",
         "8.985600000000014",
         "0.9993992791349618",
         "0.6153846153846154",
         "0.8887108262108264",
         "0.7777777777777779"
        ],
        [
         "9",
         "frozenset({'a', ' '})",
         "frozenset({'e'})",
         "0.0012",
         "0.0016",
         "0.0010666666666666667",
         "0.8888888888888891",
         "555.5555555555557",
         "1.0",
         "0.0010647466666666666",
         "8.985600000000014",
         "0.9993992791349618",
         "0.6153846153846154",
         "0.8887108262108264",
         "0.7777777777777779"
        ],
        [
         "10",
         "frozenset({'a', 'e'})",
         "frozenset({' '})",
         "0.0010666666666666667",
         "0.0016",
         "0.0010666666666666667",
         "1.0",
         "625.0",
         "1.0",
         "0.00106496",
         "inf",
         "0.9994660971703149",
         "0.6666666666666666",
         "1.0",
         "0.8333333333333333"
        ],
        [
         "11",
         "frozenset({'e', ' '})",
         "frozenset({'a'})",
         "0.0014666666666666667",
         "0.002",
         "0.0010666666666666667",
         "0.7272727272727273",
         "363.6363636363636",
         "1.0",
         "0.0010637333333333335",
         "3.6593333333333335",
         "0.9987147816797971",
         "0.44444444444444453",
         "0.7267261796319913",
         "0.6303030303030304"
        ],
        [
         "12",
         "frozenset({'a', ' '})",
         "frozenset({'t'})",
         "0.0012",
         "0.0012",
         "0.0010666666666666667",
         "0.8888888888888891",
         "740.740740740741",
         "1.0",
         "0.0010652266666666668",
         "8.989200000000015",
         "0.9998498197837405",
         "0.8000000000000002",
         "0.888755395363325",
         "0.8888888888888891"
        ],
        [
         "13",
         "frozenset({'a', 't'})",
         "frozenset({' '})",
         "0.0010666666666666667",
         "0.0016",
         "0.0010666666666666667",
         "1.0",
         "625.0",
         "1.0",
         "0.00106496",
         "inf",
         "0.9994660971703149",
         "0.6666666666666666",
         "1.0",
         "0.8333333333333333"
        ],
        [
         "14",
         "frozenset({'t', ' '})",
         "frozenset({'a'})",
         "0.0012",
         "0.002",
         "0.0010666666666666667",
         "0.8888888888888891",
         "444.4444444444445",
         "1.0",
         "0.0010642666666666667",
         "8.982000000000014",
         "0.9989487384861834",
         "0.5000000000000001",
         "0.8886662213315522",
         "0.7111111111111112"
        ],
        [
         "15",
         "frozenset({'t'})",
         "frozenset({'a', ' '})",
         "0.0012",
         "0.0012",
         "0.0010666666666666667",
         "0.8888888888888891",
         "740.740740740741",
         "1.0",
         "0.0010652266666666668",
         "8.989200000000015",
         "0.9998498197837405",
         "0.8000000000000002",
         "0.888755395363325",
         "0.8888888888888891"
        ],
        [
         "16",
         "frozenset({'t', ' '})",
         "frozenset({'e'})",
         "0.0012",
         "0.0016",
         "0.0010666666666666667",
         "0.8888888888888891",
         "555.5555555555557",
         "1.0",
         "0.0010647466666666666",
         "8.985600000000014",
         "0.9993992791349618",
         "0.6153846153846154",
         "0.8887108262108264",
         "0.7777777777777779"
        ],
        [
         "17",
         "frozenset({'t', 'e'})",
         "frozenset({' '})",
         "0.0010666666666666667",
         "0.0016",
         "0.0010666666666666667",
         "1.0",
         "625.0",
         "1.0",
         "0.00106496",
         "inf",
         "0.9994660971703149",
         "0.6666666666666666",
         "1.0",
         "0.8333333333333333"
        ],
        [
         "18",
         "frozenset({'e', ' '})",
         "frozenset({'t'})",
         "0.0014666666666666667",
         "0.0012",
         "0.0010666666666666667",
         "0.7272727272727273",
         "606.0606060606061",
         "1.0",
         "0.0010649066666666668",
         "3.662266666666667",
         "0.9998163973828282",
         "0.6666666666666667",
         "0.726945061346343",
         "0.8080808080808082"
        ],
        [
         "19",
         "frozenset({'t'})",
         "frozenset({'e', ' '})",
         "0.0012",
         "0.0014666666666666667",
         "0.0010666666666666667",
         "0.8888888888888891",
         "606.0606060606061",
         "1.0",
         "0.0010649066666666668",
         "8.986800000000015",
         "0.9995494593512215",
         "0.6666666666666667",
         "0.888725686562514",
         "0.8080808080808082"
        ]
       ],
       "shape": {
        "columns": 14,
        "rows": 20
       }
      },
      "text/html": [
       "<div>\n",
       "<style scoped>\n",
       "    .dataframe tbody tr th:only-of-type {\n",
       "        vertical-align: middle;\n",
       "    }\n",
       "\n",
       "    .dataframe tbody tr th {\n",
       "        vertical-align: top;\n",
       "    }\n",
       "\n",
       "    .dataframe thead th {\n",
       "        text-align: right;\n",
       "    }\n",
       "</style>\n",
       "<table border=\"1\" class=\"dataframe\">\n",
       "  <thead>\n",
       "    <tr style=\"text-align: right;\">\n",
       "      <th></th>\n",
       "      <th>antecedents</th>\n",
       "      <th>consequents</th>\n",
       "      <th>antecedent support</th>\n",
       "      <th>consequent support</th>\n",
       "      <th>support</th>\n",
       "      <th>confidence</th>\n",
       "      <th>lift</th>\n",
       "      <th>representativity</th>\n",
       "      <th>leverage</th>\n",
       "      <th>conviction</th>\n",
       "      <th>zhangs_metric</th>\n",
       "      <th>jaccard</th>\n",
       "      <th>certainty</th>\n",
       "      <th>kulczynski</th>\n",
       "    </tr>\n",
       "  </thead>\n",
       "  <tbody>\n",
       "    <tr>\n",
       "      <th>0</th>\n",
       "      <td>( )</td>\n",
       "      <td>(a)</td>\n",
       "      <td>0.001600</td>\n",
       "      <td>0.002000</td>\n",
       "      <td>0.001200</td>\n",
       "      <td>0.750000</td>\n",
       "      <td>375.000000</td>\n",
       "      <td>1.0</td>\n",
       "      <td>0.001197</td>\n",
       "      <td>3.992000</td>\n",
       "      <td>0.998932</td>\n",
       "      <td>0.500000</td>\n",
       "      <td>0.749499</td>\n",
       "      <td>0.675000</td>\n",
       "    </tr>\n",
       "    <tr>\n",
       "      <th>1</th>\n",
       "      <td>(e)</td>\n",
       "      <td>( )</td>\n",
       "      <td>0.001600</td>\n",
       "      <td>0.001600</td>\n",
       "      <td>0.001467</td>\n",
       "      <td>0.916667</td>\n",
       "      <td>572.916667</td>\n",
       "      <td>1.0</td>\n",
       "      <td>0.001464</td>\n",
       "      <td>11.980800</td>\n",
       "      <td>0.999854</td>\n",
       "      <td>0.846154</td>\n",
       "      <td>0.916533</td>\n",
       "      <td>0.916667</td>\n",
       "    </tr>\n",
       "    <tr>\n",
       "      <th>2</th>\n",
       "      <td>( )</td>\n",
       "      <td>(e)</td>\n",
       "      <td>0.001600</td>\n",
       "      <td>0.001600</td>\n",
       "      <td>0.001467</td>\n",
       "      <td>0.916667</td>\n",
       "      <td>572.916667</td>\n",
       "      <td>1.0</td>\n",
       "      <td>0.001464</td>\n",
       "      <td>11.980800</td>\n",
       "      <td>0.999854</td>\n",
       "      <td>0.846154</td>\n",
       "      <td>0.916533</td>\n",
       "      <td>0.916667</td>\n",
       "    </tr>\n",
       "    <tr>\n",
       "      <th>3</th>\n",
       "      <td>(t)</td>\n",
       "      <td>( )</td>\n",
       "      <td>0.001200</td>\n",
       "      <td>0.001600</td>\n",
       "      <td>0.001200</td>\n",
       "      <td>1.000000</td>\n",
       "      <td>625.000000</td>\n",
       "      <td>1.0</td>\n",
       "      <td>0.001198</td>\n",
       "      <td>inf</td>\n",
       "      <td>0.999600</td>\n",
       "      <td>0.750000</td>\n",
       "      <td>1.000000</td>\n",
       "      <td>0.875000</td>\n",
       "    </tr>\n",
       "    <tr>\n",
       "      <th>4</th>\n",
       "      <td>( )</td>\n",
       "      <td>(t)</td>\n",
       "      <td>0.001600</td>\n",
       "      <td>0.001200</td>\n",
       "      <td>0.001200</td>\n",
       "      <td>0.750000</td>\n",
       "      <td>625.000000</td>\n",
       "      <td>1.0</td>\n",
       "      <td>0.001198</td>\n",
       "      <td>3.995200</td>\n",
       "      <td>1.000000</td>\n",
       "      <td>0.750000</td>\n",
       "      <td>0.749700</td>\n",
       "      <td>0.875000</td>\n",
       "    </tr>\n",
       "    <tr>\n",
       "      <th>5</th>\n",
       "      <td>(o)</td>\n",
       "      <td>(a)</td>\n",
       "      <td>0.001467</td>\n",
       "      <td>0.002000</td>\n",
       "      <td>0.001067</td>\n",
       "      <td>0.727273</td>\n",
       "      <td>363.636364</td>\n",
       "      <td>1.0</td>\n",
       "      <td>0.001064</td>\n",
       "      <td>3.659333</td>\n",
       "      <td>0.998715</td>\n",
       "      <td>0.444444</td>\n",
       "      <td>0.726726</td>\n",
       "      <td>0.630303</td>\n",
       "    </tr>\n",
       "    <tr>\n",
       "      <th>6</th>\n",
       "      <td>(s)</td>\n",
       "      <td>(a)</td>\n",
       "      <td>0.001333</td>\n",
       "      <td>0.002000</td>\n",
       "      <td>0.001067</td>\n",
       "      <td>0.800000</td>\n",
       "      <td>400.000000</td>\n",
       "      <td>1.0</td>\n",
       "      <td>0.001064</td>\n",
       "      <td>4.990000</td>\n",
       "      <td>0.998832</td>\n",
       "      <td>0.470588</td>\n",
       "      <td>0.799599</td>\n",
       "      <td>0.666667</td>\n",
       "    </tr>\n",
       "    <tr>\n",
       "      <th>7</th>\n",
       "      <td>(t)</td>\n",
       "      <td>(a)</td>\n",
       "      <td>0.001200</td>\n",
       "      <td>0.002000</td>\n",
       "      <td>0.001067</td>\n",
       "      <td>0.888889</td>\n",
       "      <td>444.444444</td>\n",
       "      <td>1.0</td>\n",
       "      <td>0.001064</td>\n",
       "      <td>8.982000</td>\n",
       "      <td>0.998949</td>\n",
       "      <td>0.500000</td>\n",
       "      <td>0.888666</td>\n",
       "      <td>0.711111</td>\n",
       "    </tr>\n",
       "    <tr>\n",
       "      <th>8</th>\n",
       "      <td>(t)</td>\n",
       "      <td>(e)</td>\n",
       "      <td>0.001200</td>\n",
       "      <td>0.001600</td>\n",
       "      <td>0.001067</td>\n",
       "      <td>0.888889</td>\n",
       "      <td>555.555556</td>\n",
       "      <td>1.0</td>\n",
       "      <td>0.001065</td>\n",
       "      <td>8.985600</td>\n",
       "      <td>0.999399</td>\n",
       "      <td>0.615385</td>\n",
       "      <td>0.888711</td>\n",
       "      <td>0.777778</td>\n",
       "    </tr>\n",
       "    <tr>\n",
       "      <th>9</th>\n",
       "      <td>(a,  )</td>\n",
       "      <td>(e)</td>\n",
       "      <td>0.001200</td>\n",
       "      <td>0.001600</td>\n",
       "      <td>0.001067</td>\n",
       "      <td>0.888889</td>\n",
       "      <td>555.555556</td>\n",
       "      <td>1.0</td>\n",
       "      <td>0.001065</td>\n",
       "      <td>8.985600</td>\n",
       "      <td>0.999399</td>\n",
       "      <td>0.615385</td>\n",
       "      <td>0.888711</td>\n",
       "      <td>0.777778</td>\n",
       "    </tr>\n",
       "    <tr>\n",
       "      <th>10</th>\n",
       "      <td>(a, e)</td>\n",
       "      <td>( )</td>\n",
       "      <td>0.001067</td>\n",
       "      <td>0.001600</td>\n",
       "      <td>0.001067</td>\n",
       "      <td>1.000000</td>\n",
       "      <td>625.000000</td>\n",
       "      <td>1.0</td>\n",
       "      <td>0.001065</td>\n",
       "      <td>inf</td>\n",
       "      <td>0.999466</td>\n",
       "      <td>0.666667</td>\n",
       "      <td>1.000000</td>\n",
       "      <td>0.833333</td>\n",
       "    </tr>\n",
       "    <tr>\n",
       "      <th>11</th>\n",
       "      <td>(e,  )</td>\n",
       "      <td>(a)</td>\n",
       "      <td>0.001467</td>\n",
       "      <td>0.002000</td>\n",
       "      <td>0.001067</td>\n",
       "      <td>0.727273</td>\n",
       "      <td>363.636364</td>\n",
       "      <td>1.0</td>\n",
       "      <td>0.001064</td>\n",
       "      <td>3.659333</td>\n",
       "      <td>0.998715</td>\n",
       "      <td>0.444444</td>\n",
       "      <td>0.726726</td>\n",
       "      <td>0.630303</td>\n",
       "    </tr>\n",
       "    <tr>\n",
       "      <th>12</th>\n",
       "      <td>(a,  )</td>\n",
       "      <td>(t)</td>\n",
       "      <td>0.001200</td>\n",
       "      <td>0.001200</td>\n",
       "      <td>0.001067</td>\n",
       "      <td>0.888889</td>\n",
       "      <td>740.740741</td>\n",
       "      <td>1.0</td>\n",
       "      <td>0.001065</td>\n",
       "      <td>8.989200</td>\n",
       "      <td>0.999850</td>\n",
       "      <td>0.800000</td>\n",
       "      <td>0.888755</td>\n",
       "      <td>0.888889</td>\n",
       "    </tr>\n",
       "    <tr>\n",
       "      <th>13</th>\n",
       "      <td>(a, t)</td>\n",
       "      <td>( )</td>\n",
       "      <td>0.001067</td>\n",
       "      <td>0.001600</td>\n",
       "      <td>0.001067</td>\n",
       "      <td>1.000000</td>\n",
       "      <td>625.000000</td>\n",
       "      <td>1.0</td>\n",
       "      <td>0.001065</td>\n",
       "      <td>inf</td>\n",
       "      <td>0.999466</td>\n",
       "      <td>0.666667</td>\n",
       "      <td>1.000000</td>\n",
       "      <td>0.833333</td>\n",
       "    </tr>\n",
       "    <tr>\n",
       "      <th>14</th>\n",
       "      <td>(t,  )</td>\n",
       "      <td>(a)</td>\n",
       "      <td>0.001200</td>\n",
       "      <td>0.002000</td>\n",
       "      <td>0.001067</td>\n",
       "      <td>0.888889</td>\n",
       "      <td>444.444444</td>\n",
       "      <td>1.0</td>\n",
       "      <td>0.001064</td>\n",
       "      <td>8.982000</td>\n",
       "      <td>0.998949</td>\n",
       "      <td>0.500000</td>\n",
       "      <td>0.888666</td>\n",
       "      <td>0.711111</td>\n",
       "    </tr>\n",
       "    <tr>\n",
       "      <th>15</th>\n",
       "      <td>(t)</td>\n",
       "      <td>(a,  )</td>\n",
       "      <td>0.001200</td>\n",
       "      <td>0.001200</td>\n",
       "      <td>0.001067</td>\n",
       "      <td>0.888889</td>\n",
       "      <td>740.740741</td>\n",
       "      <td>1.0</td>\n",
       "      <td>0.001065</td>\n",
       "      <td>8.989200</td>\n",
       "      <td>0.999850</td>\n",
       "      <td>0.800000</td>\n",
       "      <td>0.888755</td>\n",
       "      <td>0.888889</td>\n",
       "    </tr>\n",
       "    <tr>\n",
       "      <th>16</th>\n",
       "      <td>(t,  )</td>\n",
       "      <td>(e)</td>\n",
       "      <td>0.001200</td>\n",
       "      <td>0.001600</td>\n",
       "      <td>0.001067</td>\n",
       "      <td>0.888889</td>\n",
       "      <td>555.555556</td>\n",
       "      <td>1.0</td>\n",
       "      <td>0.001065</td>\n",
       "      <td>8.985600</td>\n",
       "      <td>0.999399</td>\n",
       "      <td>0.615385</td>\n",
       "      <td>0.888711</td>\n",
       "      <td>0.777778</td>\n",
       "    </tr>\n",
       "    <tr>\n",
       "      <th>17</th>\n",
       "      <td>(t, e)</td>\n",
       "      <td>( )</td>\n",
       "      <td>0.001067</td>\n",
       "      <td>0.001600</td>\n",
       "      <td>0.001067</td>\n",
       "      <td>1.000000</td>\n",
       "      <td>625.000000</td>\n",
       "      <td>1.0</td>\n",
       "      <td>0.001065</td>\n",
       "      <td>inf</td>\n",
       "      <td>0.999466</td>\n",
       "      <td>0.666667</td>\n",
       "      <td>1.000000</td>\n",
       "      <td>0.833333</td>\n",
       "    </tr>\n",
       "    <tr>\n",
       "      <th>18</th>\n",
       "      <td>(e,  )</td>\n",
       "      <td>(t)</td>\n",
       "      <td>0.001467</td>\n",
       "      <td>0.001200</td>\n",
       "      <td>0.001067</td>\n",
       "      <td>0.727273</td>\n",
       "      <td>606.060606</td>\n",
       "      <td>1.0</td>\n",
       "      <td>0.001065</td>\n",
       "      <td>3.662267</td>\n",
       "      <td>0.999816</td>\n",
       "      <td>0.666667</td>\n",
       "      <td>0.726945</td>\n",
       "      <td>0.808081</td>\n",
       "    </tr>\n",
       "    <tr>\n",
       "      <th>19</th>\n",
       "      <td>(t)</td>\n",
       "      <td>(e,  )</td>\n",
       "      <td>0.001200</td>\n",
       "      <td>0.001467</td>\n",
       "      <td>0.001067</td>\n",
       "      <td>0.888889</td>\n",
       "      <td>606.060606</td>\n",
       "      <td>1.0</td>\n",
       "      <td>0.001065</td>\n",
       "      <td>8.986800</td>\n",
       "      <td>0.999549</td>\n",
       "      <td>0.666667</td>\n",
       "      <td>0.888726</td>\n",
       "      <td>0.808081</td>\n",
       "    </tr>\n",
       "  </tbody>\n",
       "</table>\n",
       "</div>"
      ],
      "text/plain": [
       "   antecedents consequents  antecedent support  consequent support   support  \\\n",
       "0          ( )         (a)            0.001600            0.002000  0.001200   \n",
       "1          (e)         ( )            0.001600            0.001600  0.001467   \n",
       "2          ( )         (e)            0.001600            0.001600  0.001467   \n",
       "3          (t)         ( )            0.001200            0.001600  0.001200   \n",
       "4          ( )         (t)            0.001600            0.001200  0.001200   \n",
       "5          (o)         (a)            0.001467            0.002000  0.001067   \n",
       "6          (s)         (a)            0.001333            0.002000  0.001067   \n",
       "7          (t)         (a)            0.001200            0.002000  0.001067   \n",
       "8          (t)         (e)            0.001200            0.001600  0.001067   \n",
       "9       (a,  )         (e)            0.001200            0.001600  0.001067   \n",
       "10      (a, e)         ( )            0.001067            0.001600  0.001067   \n",
       "11      (e,  )         (a)            0.001467            0.002000  0.001067   \n",
       "12      (a,  )         (t)            0.001200            0.001200  0.001067   \n",
       "13      (a, t)         ( )            0.001067            0.001600  0.001067   \n",
       "14      (t,  )         (a)            0.001200            0.002000  0.001067   \n",
       "15         (t)      (a,  )            0.001200            0.001200  0.001067   \n",
       "16      (t,  )         (e)            0.001200            0.001600  0.001067   \n",
       "17      (t, e)         ( )            0.001067            0.001600  0.001067   \n",
       "18      (e,  )         (t)            0.001467            0.001200  0.001067   \n",
       "19         (t)      (e,  )            0.001200            0.001467  0.001067   \n",
       "\n",
       "    confidence        lift  representativity  leverage  conviction  \\\n",
       "0     0.750000  375.000000               1.0  0.001197    3.992000   \n",
       "1     0.916667  572.916667               1.0  0.001464   11.980800   \n",
       "2     0.916667  572.916667               1.0  0.001464   11.980800   \n",
       "3     1.000000  625.000000               1.0  0.001198         inf   \n",
       "4     0.750000  625.000000               1.0  0.001198    3.995200   \n",
       "5     0.727273  363.636364               1.0  0.001064    3.659333   \n",
       "6     0.800000  400.000000               1.0  0.001064    4.990000   \n",
       "7     0.888889  444.444444               1.0  0.001064    8.982000   \n",
       "8     0.888889  555.555556               1.0  0.001065    8.985600   \n",
       "9     0.888889  555.555556               1.0  0.001065    8.985600   \n",
       "10    1.000000  625.000000               1.0  0.001065         inf   \n",
       "11    0.727273  363.636364               1.0  0.001064    3.659333   \n",
       "12    0.888889  740.740741               1.0  0.001065    8.989200   \n",
       "13    1.000000  625.000000               1.0  0.001065         inf   \n",
       "14    0.888889  444.444444               1.0  0.001064    8.982000   \n",
       "15    0.888889  740.740741               1.0  0.001065    8.989200   \n",
       "16    0.888889  555.555556               1.0  0.001065    8.985600   \n",
       "17    1.000000  625.000000               1.0  0.001065         inf   \n",
       "18    0.727273  606.060606               1.0  0.001065    3.662267   \n",
       "19    0.888889  606.060606               1.0  0.001065    8.986800   \n",
       "\n",
       "    zhangs_metric   jaccard  certainty  kulczynski  \n",
       "0        0.998932  0.500000   0.749499    0.675000  \n",
       "1        0.999854  0.846154   0.916533    0.916667  \n",
       "2        0.999854  0.846154   0.916533    0.916667  \n",
       "3        0.999600  0.750000   1.000000    0.875000  \n",
       "4        1.000000  0.750000   0.749700    0.875000  \n",
       "5        0.998715  0.444444   0.726726    0.630303  \n",
       "6        0.998832  0.470588   0.799599    0.666667  \n",
       "7        0.998949  0.500000   0.888666    0.711111  \n",
       "8        0.999399  0.615385   0.888711    0.777778  \n",
       "9        0.999399  0.615385   0.888711    0.777778  \n",
       "10       0.999466  0.666667   1.000000    0.833333  \n",
       "11       0.998715  0.444444   0.726726    0.630303  \n",
       "12       0.999850  0.800000   0.888755    0.888889  \n",
       "13       0.999466  0.666667   1.000000    0.833333  \n",
       "14       0.998949  0.500000   0.888666    0.711111  \n",
       "15       0.999850  0.800000   0.888755    0.888889  \n",
       "16       0.999399  0.615385   0.888711    0.777778  \n",
       "17       0.999466  0.666667   1.000000    0.833333  \n",
       "18       0.999816  0.666667   0.726945    0.808081  \n",
       "19       0.999549  0.666667   0.888726    0.808081  "
      ]
     },
     "execution_count": 25,
     "metadata": {},
     "output_type": "execute_result"
    }
   ],
   "source": [
    "from mlxtend.frequent_patterns import association_rules \n",
    "association_rules(frequent_itemsets,metric=\"confidence\",min_threshold=0.7) # associate items"
   ]
  },
  {
   "cell_type": "code",
   "execution_count": 26,
   "metadata": {},
   "outputs": [
    {
     "name": "stdout",
     "output_type": "stream",
     "text": [
      "Index([' ', 'a', 'b', 'c', 'd', 'e', 'f', 'g', 'h', 'i', 'j', 'k', 'l', 'm',\n",
      "       'n', 'o', 'p', 'r', 's', 't', 'u', 'v', 'w', 'x', 'y', 'z'],\n",
      "      dtype='object')\n"
     ]
    }
   ],
   "source": [
    "print(DataFrame.columns)\n"
   ]
  },
  {
   "cell_type": "code",
   "execution_count": 27,
   "metadata": {},
   "outputs": [],
   "source": [
    "frequent_itemsets = frequent_itemsets[frequent_itemsets[\"itemsets\"].apply(lambda x: len(x) > 0)]\n"
   ]
  },
  {
   "cell_type": "code",
   "execution_count": 31,
   "metadata": {},
   "outputs": [],
   "source": [
    "frequent_itemsets = apriori(DataFrame, min_support=0.005, use_colnames=True)\n"
   ]
  },
  {
   "cell_type": "code",
   "execution_count": 29,
   "metadata": {},
   "outputs": [
    {
     "name": "stdout",
     "output_type": "stream",
     "text": [
      "0     7480\n",
      "6        3\n",
      "7        3\n",
      "5        2\n",
      "12       2\n",
      "11       2\n",
      "4        2\n",
      "9        2\n",
      "10       2\n",
      "8        1\n",
      "13       1\n",
      "Name: count, dtype: int64\n"
     ]
    }
   ],
   "source": [
    "print(DataFrame.sum(axis=1).value_counts())  # Nombre d'articles par transaction\n"
   ]
  },
  {
   "cell_type": "code",
   "execution_count": 32,
   "metadata": {},
   "outputs": [],
   "source": [
    "DataFrame_filtered = DataFrame[DataFrame.sum(axis=1) > 0]\n"
   ]
  },
  {
   "cell_type": "code",
   "execution_count": 33,
   "metadata": {},
   "outputs": [
    {
     "name": "stdout",
     "output_type": "stream",
     "text": [
      "              a      b      c      d      e      f      g      h      i  ...  \\\n",
      "0  False  False  False  False  False  False  False  False   True   True  ...   \n",
      "1  False   True  False  False   True  False  False  False  False  False  ...   \n",
      "2  False   True  False   True   True  False  False  False  False  False  ...   \n",
      "3   True   True   True  False  False   True  False   True  False   True  ...   \n",
      "4   True   True  False  False  False   True  False   True  False  False  ...   \n",
      "5   True   True  False  False  False   True   True  False   True  False  ...   \n",
      "6  False   True  False  False  False  False  False  False  False  False  ...   \n",
      "7   True   True  False   True  False   True  False   True   True  False  ...   \n",
      "8   True  False  False  False   True   True  False   True  False   True  ...   \n",
      "9   True   True  False   True  False   True  False  False  False   True  ...   \n",
      "\n",
      "       p      r      s      t      u      v      w      x      y      z  \n",
      "0   True   True   True  False  False  False  False  False  False  False  \n",
      "1  False  False   True  False  False  False  False  False  False  False  \n",
      "2  False  False  False  False  False   True  False  False  False  False  \n",
      "3  False  False   True   True  False   True  False   True  False  False  \n",
      "4   True   True   True  False  False  False  False  False  False  False  \n",
      "5  False   True  False   True   True  False   True  False  False  False  \n",
      "6  False  False   True  False  False  False  False  False   True  False  \n",
      "7  False  False   True   True  False  False  False  False  False  False  \n",
      "8  False   True  False  False  False  False  False  False   True  False  \n",
      "9  False  False  False   True   True  False  False  False  False  False  \n",
      "\n",
      "[10 rows x 26 columns]\n",
      "count    7500.000000\n",
      "mean        0.021600\n",
      "std         0.441013\n",
      "min         0.000000\n",
      "25%         0.000000\n",
      "50%         0.000000\n",
      "75%         0.000000\n",
      "max        13.000000\n",
      "dtype: float64\n"
     ]
    }
   ],
   "source": [
    "print(DataFrame.head(10))\n",
    "print(DataFrame.sum(axis=1).describe())  # Statistiques des nombres d'articles par transaction\n"
   ]
  },
  {
   "cell_type": "code",
   "execution_count": 34,
   "metadata": {},
   "outputs": [],
   "source": [
    "frequent_itemsets = apriori(DataFrame_filtered, min_support=0.0005, use_colnames=True)\n"
   ]
  },
  {
   "cell_type": "code",
   "execution_count": 35,
   "metadata": {},
   "outputs": [
    {
     "name": "stdout",
     "output_type": "stream",
     "text": [
      "  antecedents consequents  antecedent support  consequent support  support  \\\n",
      "0         ( )         (a)                0.60                0.75     0.45   \n",
      "1         (b)         ( )                0.05                0.60     0.05   \n",
      "2         (e)         ( )                0.60                0.60     0.55   \n",
      "3         ( )         (e)                0.60                0.60     0.55   \n",
      "4         (f)         ( )                0.15                0.60     0.15   \n",
      "\n",
      "   confidence      lift  representativity      leverage  conviction  \\\n",
      "0    0.750000  1.000000               1.0  5.551115e-17         1.0   \n",
      "1    1.000000  1.666667               1.0  2.000000e-02         inf   \n",
      "2    0.916667  1.527778               1.0  1.900000e-01         4.8   \n",
      "3    0.916667  1.527778               1.0  1.900000e-01         4.8   \n",
      "4    1.000000  1.666667               1.0  6.000000e-02         inf   \n",
      "\n",
      "   zhangs_metric   jaccard  certainty  kulczynski  \n",
      "0   3.083953e-16  0.500000   0.000000    0.675000  \n",
      "1   4.210526e-01  0.083333   1.000000    0.541667  \n",
      "2   8.636364e-01  0.846154   0.791667    0.916667  \n",
      "3   8.636364e-01  0.846154   0.791667    0.916667  \n",
      "4   4.705882e-01  0.250000   1.000000    0.625000  \n"
     ]
    }
   ],
   "source": [
    "from mlxtend.frequent_patterns import association_rules\n",
    "\n",
    "rules = association_rules(frequent_itemsets, metric=\"confidence\", min_threshold=0.7)\n",
    "print(rules.head())\n"
   ]
  },
  {
   "cell_type": "code",
   "execution_count": 36,
   "metadata": {},
   "outputs": [
    {
     "name": "stdout",
     "output_type": "stream",
     "text": [
      "  antecedents consequents  antecedent support  consequent support  support  \\\n",
      "0         ( )         (a)                0.60                0.75     0.45   \n",
      "1         (b)         ( )                0.05                0.60     0.05   \n",
      "2         (e)         ( )                0.60                0.60     0.55   \n",
      "3         ( )         (e)                0.60                0.60     0.55   \n",
      "4         (f)         ( )                0.15                0.60     0.15   \n",
      "\n",
      "   confidence      lift  representativity      leverage  conviction  \\\n",
      "0    0.750000  1.000000               1.0  5.551115e-17         1.0   \n",
      "1    1.000000  1.666667               1.0  2.000000e-02         inf   \n",
      "2    0.916667  1.527778               1.0  1.900000e-01         4.8   \n",
      "3    0.916667  1.527778               1.0  1.900000e-01         4.8   \n",
      "4    1.000000  1.666667               1.0  6.000000e-02         inf   \n",
      "\n",
      "   zhangs_metric   jaccard  certainty  kulczynski  \n",
      "0   3.083953e-16  0.500000   0.000000    0.675000  \n",
      "1   4.210526e-01  0.083333   1.000000    0.541667  \n",
      "2   8.636364e-01  0.846154   0.791667    0.916667  \n",
      "3   8.636364e-01  0.846154   0.791667    0.916667  \n",
      "4   4.705882e-01  0.250000   1.000000    0.625000  \n"
     ]
    }
   ],
   "source": [
    "rules = rules[(rules['antecedents'].apply(len) > 0) & (rules['consequents'].apply(len) > 0)]\n",
    "print(rules.head())\n"
   ]
  },
  {
   "cell_type": "code",
   "execution_count": 37,
   "metadata": {},
   "outputs": [
    {
     "name": "stdout",
     "output_type": "stream",
     "text": [
      "   support itemsets\n",
      "0     0.60      ( )\n",
      "1     0.75      (a)\n",
      "2     0.05      (b)\n",
      "3     0.25      (c)\n",
      "4     0.25      (d)\n",
      "5     0.60      (e)\n",
      "6     0.15      (f)\n",
      "7     0.30      (g)\n",
      "8     0.30      (h)\n",
      "9     0.45      (i)\n"
     ]
    }
   ],
   "source": [
    "print(frequent_itemsets.head(10))\n"
   ]
  },
  {
   "cell_type": "code",
   "execution_count": 38,
   "metadata": {},
   "outputs": [
    {
     "name": "stdout",
     "output_type": "stream",
     "text": [
      "  antecedents consequents  antecedent support  consequent support  support  \\\n",
      "0         ( )         (a)                0.60                0.75     0.45   \n",
      "1         (b)         ( )                0.05                0.60     0.05   \n",
      "2         (e)         ( )                0.60                0.60     0.55   \n",
      "3         ( )         (e)                0.60                0.60     0.55   \n",
      "4         (f)         ( )                0.15                0.60     0.15   \n",
      "\n",
      "   confidence      lift  representativity      leverage  conviction  \\\n",
      "0    0.750000  1.000000               1.0  5.551115e-17         1.0   \n",
      "1    1.000000  1.666667               1.0  2.000000e-02         inf   \n",
      "2    0.916667  1.527778               1.0  1.900000e-01         4.8   \n",
      "3    0.916667  1.527778               1.0  1.900000e-01         4.8   \n",
      "4    1.000000  1.666667               1.0  6.000000e-02         inf   \n",
      "\n",
      "   zhangs_metric   jaccard  certainty  kulczynski  \n",
      "0   3.083953e-16  0.500000   0.000000    0.675000  \n",
      "1   4.210526e-01  0.083333   1.000000    0.541667  \n",
      "2   8.636364e-01  0.846154   0.791667    0.916667  \n",
      "3   8.636364e-01  0.846154   0.791667    0.916667  \n",
      "4   4.705882e-01  0.250000   1.000000    0.625000  \n"
     ]
    }
   ],
   "source": [
    "# Supprimer les itemsets vides\n",
    "frequent_itemsets = frequent_itemsets[frequent_itemsets[\"itemsets\"].apply(lambda x: len(x) > 0)]\n",
    "\n",
    "# Générer les règles d'association\n",
    "rules = association_rules(frequent_itemsets, metric=\"confidence\", min_threshold=0.7)\n",
    "print(rules.head())\n"
   ]
  },
  {
   "cell_type": "code",
   "execution_count": 39,
   "metadata": {},
   "outputs": [
    {
     "name": "stdout",
     "output_type": "stream",
     "text": [
      "  antecedents consequents  antecedent support  consequent support  support  \\\n",
      "0         ( )         (a)                0.60                0.75     0.45   \n",
      "1         (b)         ( )                0.05                0.60     0.05   \n",
      "2         (e)         ( )                0.60                0.60     0.55   \n",
      "3         ( )         (e)                0.60                0.60     0.55   \n",
      "4         (f)         ( )                0.15                0.60     0.15   \n",
      "\n",
      "   confidence      lift  representativity      leverage  conviction  \\\n",
      "0    0.750000  1.000000               1.0  5.551115e-17         1.0   \n",
      "1    1.000000  1.666667               1.0  2.000000e-02         inf   \n",
      "2    0.916667  1.527778               1.0  1.900000e-01         4.8   \n",
      "3    0.916667  1.527778               1.0  1.900000e-01         4.8   \n",
      "4    1.000000  1.666667               1.0  6.000000e-02         inf   \n",
      "\n",
      "   zhangs_metric   jaccard  certainty  kulczynski  \n",
      "0   3.083953e-16  0.500000   0.000000    0.675000  \n",
      "1   4.210526e-01  0.083333   1.000000    0.541667  \n",
      "2   8.636364e-01  0.846154   0.791667    0.916667  \n",
      "3   8.636364e-01  0.846154   0.791667    0.916667  \n",
      "4   4.705882e-01  0.250000   1.000000    0.625000  \n"
     ]
    }
   ],
   "source": [
    "# Supprimer les règles où les antécédents ou les conséquents sont vides\n",
    "rules = rules[(rules['antecedents'].apply(len) > 0) & (rules['consequents'].apply(len) > 0)]\n",
    "\n",
    "print(rules.head())\n"
   ]
  },
  {
   "cell_type": "code",
   "execution_count": 40,
   "metadata": {},
   "outputs": [],
   "source": [
    "# Supprimer les itemsets vides dans frequent_itemsets\n",
    "frequent_itemsets = frequent_itemsets[frequent_itemsets['itemsets'].apply(len) > 0]\n"
   ]
  },
  {
   "cell_type": "code",
   "execution_count": 41,
   "metadata": {},
   "outputs": [
    {
     "name": "stdout",
     "output_type": "stream",
     "text": [
      "  antecedents consequents  antecedent support  consequent support  support  \\\n",
      "0         ( )         (a)                0.60                0.75     0.45   \n",
      "1         (b)         ( )                0.05                0.60     0.05   \n",
      "2         (e)         ( )                0.60                0.60     0.55   \n",
      "3         ( )         (e)                0.60                0.60     0.55   \n",
      "4         (f)         ( )                0.15                0.60     0.15   \n",
      "\n",
      "   confidence      lift  representativity      leverage  conviction  \\\n",
      "0    0.750000  1.000000               1.0  5.551115e-17         1.0   \n",
      "1    1.000000  1.666667               1.0  2.000000e-02         inf   \n",
      "2    0.916667  1.527778               1.0  1.900000e-01         4.8   \n",
      "3    0.916667  1.527778               1.0  1.900000e-01         4.8   \n",
      "4    1.000000  1.666667               1.0  6.000000e-02         inf   \n",
      "\n",
      "   zhangs_metric   jaccard  certainty  kulczynski  \n",
      "0   3.083953e-16  0.500000   0.000000    0.675000  \n",
      "1   4.210526e-01  0.083333   1.000000    0.541667  \n",
      "2   8.636364e-01  0.846154   0.791667    0.916667  \n",
      "3   8.636364e-01  0.846154   0.791667    0.916667  \n",
      "4   4.705882e-01  0.250000   1.000000    0.625000  \n"
     ]
    }
   ],
   "source": [
    "rules = association_rules(frequent_itemsets, metric=\"confidence\", min_threshold=0.7)\n",
    "\n",
    "# Supprimer les règles avec antécédents ou conséquents vides\n",
    "rules = rules[(rules['antecedents'].apply(len) > 0) & (rules['consequents'].apply(len) > 0)]\n",
    "\n",
    "print(rules.head())\n"
   ]
  },
  {
   "cell_type": "code",
   "execution_count": 48,
   "metadata": {},
   "outputs": [
    {
     "name": "stdout",
     "output_type": "stream",
     "text": [
      "Colonnes après nettoyage : Index(['a', 'b', 'c', 'd', 'e', 'f', 'g', 'h', 'i', 'j', 'k', 'l', 'm', 'n',\n",
      "       'o', 'p', 'r', 's', 't', 'u', 'v', 'w', 'x', 'y', 'z'],\n",
      "      dtype='object')\n",
      "  antecedents consequents  antecedent support  consequent support   support  \\\n",
      "0         (o)         (a)            0.001467              0.0020  0.001067   \n",
      "1         (s)         (a)            0.001333              0.0020  0.001067   \n",
      "2         (t)         (a)            0.001200              0.0020  0.001067   \n",
      "3         (t)         (e)            0.001200              0.0016  0.001067   \n",
      "\n",
      "   confidence        lift  representativity  leverage  conviction  \\\n",
      "0    0.727273  363.636364               1.0  0.001064    3.659333   \n",
      "1    0.800000  400.000000               1.0  0.001064    4.990000   \n",
      "2    0.888889  444.444444               1.0  0.001064    8.982000   \n",
      "3    0.888889  555.555556               1.0  0.001065    8.985600   \n",
      "\n",
      "   zhangs_metric   jaccard  certainty  kulczynski  \n",
      "0       0.998715  0.444444   0.726726    0.630303  \n",
      "1       0.998832  0.470588   0.799599    0.666667  \n",
      "2       0.998949  0.500000   0.888666    0.711111  \n",
      "3       0.999399  0.615385   0.888711    0.777778  \n"
     ]
    }
   ],
   "source": [
    "# Supprimer les transactions complètement vides\n",
    "DataFrame = DataFrame.loc[:, DataFrame.sum(axis=0) > 0]\n",
    "\n",
    "# Supprimer les colonnes avec des noms vides ou contenant uniquement des espaces\n",
    "DataFrame = DataFrame.loc[:, ~DataFrame.columns.str.fullmatch(r'\\s*')]\n",
    "\n",
    "# Vérifier qu'il ne reste pas de colonnes inutiles\n",
    "print(\"Colonnes après nettoyage :\", DataFrame.columns)\n",
    "\n",
    "# Appliquer Apriori en s'assurant que les itemsets ne sont pas vides\n",
    "frequent_itemsets = apriori(DataFrame, min_support=0.001, use_colnames=True)\n",
    "frequent_itemsets = frequent_itemsets[frequent_itemsets['itemsets'].apply(len) > 0]\n",
    "\n",
    "# Générer les règles d'association en filtrant les règles vides\n",
    "rules = association_rules(frequent_itemsets, metric=\"confidence\", min_threshold=0.7)\n",
    "rules = rules[(rules['antecedents'].apply(len) > 0) & (rules['consequents'].apply(len) > 0)]\n",
    "\n",
    "# Affichage des 5 premières règles\n",
    "print(rules.head())\n",
    "\n"
   ]
  },
  {
   "cell_type": "code",
   "execution_count": 49,
   "metadata": {},
   "outputs": [
    {
     "name": "stdout",
     "output_type": "stream",
     "text": [
      "  antecedents consequents  antecedent support  consequent support   support  \\\n",
      "3         (t)         (e)            0.001200              0.0016  0.001067   \n",
      "2         (t)         (a)            0.001200              0.0020  0.001067   \n",
      "1         (s)         (a)            0.001333              0.0020  0.001067   \n",
      "0         (o)         (a)            0.001467              0.0020  0.001067   \n",
      "\n",
      "   confidence        lift  representativity  leverage  conviction  \\\n",
      "3    0.888889  555.555556               1.0  0.001065    8.985600   \n",
      "2    0.888889  444.444444               1.0  0.001064    8.982000   \n",
      "1    0.800000  400.000000               1.0  0.001064    4.990000   \n",
      "0    0.727273  363.636364               1.0  0.001064    3.659333   \n",
      "\n",
      "   zhangs_metric   jaccard  certainty  kulczynski  \n",
      "3       0.999399  0.615385   0.888711    0.777778  \n",
      "2       0.998949  0.500000   0.888666    0.711111  \n",
      "1       0.998832  0.470588   0.799599    0.666667  \n",
      "0       0.998715  0.444444   0.726726    0.630303  \n"
     ]
    }
   ],
   "source": [
    "print(rules.sort_values(by=\"lift\", ascending=False).head(10))\n"
   ]
  },
  {
   "cell_type": "code",
   "execution_count": 52,
   "metadata": {},
   "outputs": [],
   "source": [
    "rules = rules[rules['confidence'] > 0.85]"
   ]
  },
  {
   "cell_type": "code",
   "execution_count": 54,
   "metadata": {},
   "outputs": [
    {
     "data": {
      "image/png": "[encoded data removed]",
      "text/plain": [
       "<Figure size 800x600 with 1 Axes>"
      ]
     },
     "metadata": {},
     "output_type": "display_data"
    }
   ],
   "source": [
    "import networkx as nx\n",
    "import matplotlib.pyplot as plt\n",
    "\n",
    "# Créer un graphe dirigé\n",
    "G = nx.DiGraph()\n",
    "\n",
    "# Ajouter les arêtes avec leur poids (confiance)\n",
    "for _, row in rules.iterrows():\n",
    "    antecedent = list(row['antecedents'])[0]  # Prendre le premier élément de l'ensemble\n",
    "    consequent = list(row['consequents'])[0]  # Idem\n",
    "    confidence = row['confidence']\n",
    "    \n",
    "    G.add_edge(antecedent, consequent, weight=confidence)\n",
    "\n",
    "# Dessiner le graphe\n",
    "plt.figure(figsize=(8,6))\n",
    "pos = nx.spring_layout(G, seed=42)  # Disposition des nœuds\n",
    "edges = G.edges(data=True)\n",
    "\n",
    "# Dessiner les nœuds\n",
    "nx.draw(G, pos, with_labels=True, node_color=\"lightblue\", node_size=3000, font_size=12, font_weight=\"bold\")\n",
    "\n",
    "# Ajouter les poids (confiance) sur les arêtes\n",
    "edge_labels = {(u, v): f\"{d['weight']:.2f}\" for u, v, d in edges}\n",
    "nx.draw_networkx_edge_labels(G, pos, edge_labels=edge_labels, font_size=10)\n",
    "\n",
    "plt.title(\"Graph des règles d’association\")\n",
    "plt.show()\n"
   ]
  },
  {
   "cell_type": "code",
   "execution_count": 57,
   "metadata": {},
   "outputs": [
    {
     "data": {
      "image/png": "[encoded data removed]",
      "text/plain": [
       "<Figure size 1000x800 with 2 Axes>"
      ]
     },
     "metadata": {},
     "output_type": "display_data"
    }
   ],
   "source": [
    "import seaborn as sns\n",
    "import pandas as pd\n",
    "\n",
    "all_items = set()\n",
    "for antecedents, consequents in zip(rules['antecedents'], rules['consequents']):\n",
    "    all_items.update(antecedents)\n",
    "    all_items.update(consequents)\n",
    "\n",
    "all_items = sorted(all_items)  # Trier les éléments pour un affichage plus clair\n",
    "\n",
    "# Créer une matrice de heatmap à partir des règles\n",
    "heatmap_data = pd.DataFrame(0.0, index=all_items, columns=all_items)\n",
    "\n",
    "\n",
    "for _, row in rules.iterrows():\n",
    "    antecedent = list(row['antecedents'])[0]\n",
    "    consequent = list(row['consequents'])[0]\n",
    "    confidence = row['confidence']\n",
    "    \n",
    "    heatmap_data.loc[antecedent, consequent] = confidence\n",
    "\n",
    "# Afficher la heatmap\n",
    "plt.figure(figsize=(10, 8))\n",
    "sns.heatmap(heatmap_data, annot=True, cmap=\"coolwarm\", linewidths=0.5)\n",
    "plt.title(\"Heatmap des associations entre les items\")\n",
    "plt.show()\n"
   ]
  },
  {
   "cell_type": "code",
   "execution_count": 62,
   "metadata": {},
   "outputs": [
    {
     "ename": "ValueError",
     "evalue": "index cannot be a set",
     "output_type": "error",
     "traceback": [
      "\u001b[0;31m---------------------------------------------------------------------------\u001b[0m",
      "\u001b[0;31mValueError\u001b[0m                                Traceback (most recent call last)",
      "\u001b[0;32m/var/folders/fd/b6_hc3516_b4khq0dtrt_gpr0000gn/T/ipykernel_98429/3557648370.py\u001b[0m in \u001b[0;36m?\u001b[0;34m()\u001b[0m\n\u001b[0;32m----> 8\u001b[0;31m \u001b[0;32mimport\u001b[0m \u001b[0mpandas\u001b[0m \u001b[0;32mas\u001b[0m \u001b[0mpd\u001b[0m\u001b[0;34m\u001b[0m\u001b[0;34m\u001b[0m\u001b[0m\n\u001b[0m\u001b[1;32m      9\u001b[0m \u001b[0;32mimport\u001b[0m \u001b[0mseaborn\u001b[0m \u001b[0;32mas\u001b[0m \u001b[0msns\u001b[0m\u001b[0;34m\u001b[0m\u001b[0;34m\u001b[0m\u001b[0m\n\u001b[1;32m     10\u001b[0m \u001b[0;32mimport\u001b[0m \u001b[0mmatplotlib\u001b[0m\u001b[0;34m.\u001b[0m\u001b[0mpyplot\u001b[0m \u001b[0;32mas\u001b[0m \u001b[0mplt\u001b[0m\u001b[0;34m\u001b[0m\u001b[0;34m\u001b[0m\u001b[0m\n\u001b[1;32m     11\u001b[0m \u001b[0;32mimport\u001b[0m \u001b[0mnetworkx\u001b[0m \u001b[0;32mas\u001b[0m \u001b[0mnx\u001b[0m\u001b[0;34m\u001b[0m\u001b[0;34m\u001b[0m\u001b[0m\n",
      "\u001b[0;32m~/miniconda3/envs/mon_env/lib/python3.9/site-packages/pandas/core/frame.py\u001b[0m in \u001b[0;36m?\u001b[0;34m(self, data, index, columns, dtype, copy)\u001b[0m\n\u001b[1;32m    738\u001b[0m         \u001b[0moriginal_dtype\u001b[0m \u001b[0;34m=\u001b[0m \u001b[0mdtype\u001b[0m\u001b[0;34m\u001b[0m\u001b[0;34m\u001b[0m\u001b[0m\n\u001b[1;32m    739\u001b[0m \u001b[0;34m\u001b[0m\u001b[0m\n\u001b[1;32m    740\u001b[0m         \u001b[0;31m# GH47215\u001b[0m\u001b[0;34m\u001b[0m\u001b[0;34m\u001b[0m\u001b[0m\n\u001b[1;32m    741\u001b[0m         \u001b[0;32mif\u001b[0m \u001b[0misinstance\u001b[0m\u001b[0;34m(\u001b[0m\u001b[0mindex\u001b[0m\u001b[0;34m,\u001b[0m \u001b[0mset\u001b[0m\u001b[0;34m)\u001b[0m\u001b[0;34m:\u001b[0m\u001b[0;34m\u001b[0m\u001b[0;34m\u001b[0m\u001b[0m\n\u001b[0;32m--> 742\u001b[0;31m             \u001b[0;32mraise\u001b[0m \u001b[0mValueError\u001b[0m\u001b[0;34m(\u001b[0m\u001b[0;34m\"index cannot be a set\"\u001b[0m\u001b[0;34m)\u001b[0m\u001b[0;34m\u001b[0m\u001b[0;34m\u001b[0m\u001b[0m\n\u001b[0m\u001b[1;32m    743\u001b[0m         \u001b[0;32mif\u001b[0m \u001b[0misinstance\u001b[0m\u001b[0;34m(\u001b[0m\u001b[0mcolumns\u001b[0m\u001b[0;34m,\u001b[0m \u001b[0mset\u001b[0m\u001b[0;34m)\u001b[0m\u001b[0;34m:\u001b[0m\u001b[0;34m\u001b[0m\u001b[0;34m\u001b[0m\u001b[0m\n\u001b[1;32m    744\u001b[0m             \u001b[0;32mraise\u001b[0m \u001b[0mValueError\u001b[0m\u001b[0;34m(\u001b[0m\u001b[0;34m\"columns cannot be a set\"\u001b[0m\u001b[0;34m)\u001b[0m\u001b[0;34m\u001b[0m\u001b[0;34m\u001b[0m\u001b[0m\n\u001b[1;32m    745\u001b[0m \u001b[0;34m\u001b[0m\u001b[0m\n",
      "\u001b[0;31mValueError\u001b[0m: index cannot be a set"
     ]
    }
   ],
   "source": [
    "import pandas as pd\n",
    "import seaborn as sns\n",
    "import matplotlib.pyplot as plt\n",
    "import networkx as nx\n",
    "from matplotlib.colors import LogNorm\n",
    "\n",
    "# Charger les règles d'association (assurez-vous d'avoir un DataFrame nommé 'rules')\n",
    "heatmap_data = pd.DataFrame(0.0, index=all_items, columns=all_items)\n",
    "\n",
    "\n",
    "# ✅ 1. Filtrer les règles avec un support > 0.005 et un lift > 3\n",
    "filtered_rules = rules[(rules['support'] > 0.005) & (rules['lift'] > 3)]\n",
    "\n",
    "# ✅ 2. Trier par conviction pour voir les règles les plus significatives\n",
    "sorted_rules = filtered_rules.sort_values('conviction', ascending=False)\n",
    "\n",
    "# ✅ 3. Diagramme en barres des règles les plus fortes\n",
    "plt.figure(figsize=(10, 5))\n",
    "sns.barplot(x=sorted_rules['confidence'], y=sorted_rules['antecedents'].astype(str) + ' → ' + sorted_rules['consequents'].astype(str), hue=sorted_rules['lift'], palette='coolwarm')\n",
    "plt.xlabel(\"Confiance\")\n",
    "plt.ylabel(\"Règle\")\n",
    "plt.title(\"Top règles d'association par confiance et lift\")\n",
    "plt.legend(title=\"Lift\")\n",
    "plt.show()\n",
    "\n",
    "# ✅ 4. Graph de réseau amélioré\n",
    "graph = nx.DiGraph()\n",
    "for _, row in filtered_rules.iterrows():\n",
    "    antecedent = list(row['antecedents'])[0]\n",
    "    consequent = list(row['consequents'])[0]\n",
    "    graph.add_edge(antecedent, consequent, weight=row['lift'])\n",
    "\n",
    "plt.figure(figsize=(8, 6))\n",
    "pos = nx.spring_layout(graph)\n",
    "edges = graph.edges(data=True)\n",
    "nx.draw(graph, pos, with_labels=True, node_color='skyblue', edge_color='gray', node_size=2000, font_size=10)\n",
    "nx.draw_networkx_edge_labels(graph, pos, edge_labels={(u, v): f\"{d['weight']:.2f}\" for u, v, d in edges}, font_size=8)\n",
    "plt.title(\"Graph des règles d’association avec lift\")\n",
    "plt.show()\n",
    "\n",
    "# ✅ 5. Heatmap avancée\n",
    "all_items = list(set(item for row in rules['antecedents'].tolist() + rules['consequents'].tolist() for item in row))\n",
    "heatmap_data = pd.DataFrame(0.0, index=all_items, columns=all_items)\n",
    "for _, row in filtered_rules.iterrows():\n",
    "    antecedent = list(row['antecedents'])[0]\n",
    "    consequent = list(row['consequents'])[0]\n",
    "    heatmap_data.loc[antecedent, consequent] = row['confidence']\n",
    "\n",
    "plt.figure(figsize=(8, 8))\n",
    "sns.heatmap(heatmap_data, cmap='coolwarm', annot=True, fmt='.2f', norm=LogNorm())\n",
    "plt.title(\"Heatmap avancée des associations entre les items\")\n",
    "plt.show()\n"
   ]
  }
 ],
 "metadata": {
  "kernelspec": {
   "display_name": "mon_env",
   "language": "python",
   "name": "python3"
  },
  "language_info": {
   "codemirror_mode": {
    "name": "ipython",
    "version": 3
   },
   "file_extension": ".py",
   "mimetype": "text/x-python",
   "name": "python",
   "nbconvert_exporter": "python",
   "pygments_lexer": "ipython3",
   "version": "3.9.21"
  }
 },
 "nbformat": 4,
 "nbformat_minor": 2
}
